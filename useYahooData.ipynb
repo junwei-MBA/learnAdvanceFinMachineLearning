{
 "cells": [
  {
   "cell_type": "code",
   "execution_count": 1,
   "id": "b75834ef",
   "metadata": {},
   "outputs": [],
   "source": [
    "import research as rs\n",
    "import pandas as pd\n",
    "import yfinance as yf\n"
   ]
  },
  {
   "cell_type": "code",
   "execution_count": 2,
   "id": "26e41c2f",
   "metadata": {},
   "outputs": [
    {
     "data": {
      "text/html": [
       "<div>\n",
       "<style scoped>\n",
       "    .dataframe tbody tr th:only-of-type {\n",
       "        vertical-align: middle;\n",
       "    }\n",
       "\n",
       "    .dataframe tbody tr th {\n",
       "        vertical-align: top;\n",
       "    }\n",
       "\n",
       "    .dataframe thead th {\n",
       "        text-align: right;\n",
       "    }\n",
       "</style>\n",
       "<table border=\"1\" class=\"dataframe\">\n",
       "  <thead>\n",
       "    <tr style=\"text-align: right;\">\n",
       "      <th></th>\n",
       "      <th>Open</th>\n",
       "      <th>High</th>\n",
       "      <th>Low</th>\n",
       "      <th>Close</th>\n",
       "      <th>Volume</th>\n",
       "      <th>Dividends</th>\n",
       "      <th>Stock Splits</th>\n",
       "    </tr>\n",
       "    <tr>\n",
       "      <th>Date</th>\n",
       "      <th></th>\n",
       "      <th></th>\n",
       "      <th></th>\n",
       "      <th></th>\n",
       "      <th></th>\n",
       "      <th></th>\n",
       "      <th></th>\n",
       "    </tr>\n",
       "  </thead>\n",
       "  <tbody>\n",
       "    <tr>\n",
       "      <th>2019-10-02</th>\n",
       "      <td>2942.25</td>\n",
       "      <td>2949.00</td>\n",
       "      <td>2874.00</td>\n",
       "      <td>2880.50</td>\n",
       "      <td>2126769</td>\n",
       "      <td>0</td>\n",
       "      <td>0</td>\n",
       "    </tr>\n",
       "    <tr>\n",
       "      <th>2019-10-03</th>\n",
       "      <td>2883.75</td>\n",
       "      <td>2912.50</td>\n",
       "      <td>2855.00</td>\n",
       "      <td>2911.75</td>\n",
       "      <td>2037970</td>\n",
       "      <td>0</td>\n",
       "      <td>0</td>\n",
       "    </tr>\n",
       "    <tr>\n",
       "      <th>2019-10-04</th>\n",
       "      <td>2911.50</td>\n",
       "      <td>2953.25</td>\n",
       "      <td>2896.75</td>\n",
       "      <td>2951.00</td>\n",
       "      <td>1497975</td>\n",
       "      <td>0</td>\n",
       "      <td>0</td>\n",
       "    </tr>\n",
       "    <tr>\n",
       "      <th>2019-10-07</th>\n",
       "      <td>2929.75</td>\n",
       "      <td>2959.50</td>\n",
       "      <td>2928.00</td>\n",
       "      <td>2937.50</td>\n",
       "      <td>1266872</td>\n",
       "      <td>0</td>\n",
       "      <td>0</td>\n",
       "    </tr>\n",
       "    <tr>\n",
       "      <th>2019-10-08</th>\n",
       "      <td>2934.50</td>\n",
       "      <td>2950.00</td>\n",
       "      <td>2890.50</td>\n",
       "      <td>2892.50</td>\n",
       "      <td>1865325</td>\n",
       "      <td>0</td>\n",
       "      <td>0</td>\n",
       "    </tr>\n",
       "  </tbody>\n",
       "</table>\n",
       "</div>"
      ],
      "text/plain": [
       "               Open     High      Low    Close   Volume  Dividends  \\\n",
       "Date                                                                 \n",
       "2019-10-02  2942.25  2949.00  2874.00  2880.50  2126769          0   \n",
       "2019-10-03  2883.75  2912.50  2855.00  2911.75  2037970          0   \n",
       "2019-10-04  2911.50  2953.25  2896.75  2951.00  1497975          0   \n",
       "2019-10-07  2929.75  2959.50  2928.00  2937.50  1266872          0   \n",
       "2019-10-08  2934.50  2950.00  2890.50  2892.50  1865325          0   \n",
       "\n",
       "            Stock Splits  \n",
       "Date                      \n",
       "2019-10-02             0  \n",
       "2019-10-03             0  \n",
       "2019-10-04             0  \n",
       "2019-10-07             0  \n",
       "2019-10-08             0  "
      ]
     },
     "execution_count": 2,
     "metadata": {},
     "output_type": "execute_result"
    }
   ],
   "source": [
    "instr = yf.Ticker(\"ES=F\")\n",
    "#hist = instr.history(start=\"2021-08-27\", end=\"2021-09-03\",interval='1m')\n",
    "hist= instr.history(period=\"2y\")\n",
    "hist.head()"
   ]
  },
  {
   "cell_type": "code",
   "execution_count": 3,
   "id": "ee7a601f",
   "metadata": {},
   "outputs": [],
   "source": [
    "#hist.to_csv('Emini500SP_daily_max.csv')"
   ]
  },
  {
   "cell_type": "code",
   "execution_count": 4,
   "id": "bce1e3b1",
   "metadata": {},
   "outputs": [],
   "source": [
    "# import os, glob\n",
    "# path = \"./\"\n",
    "# all_files = glob.glob(os.path.join(path, \"*.csv\"))\n",
    "# df_from_each_file = (pd.read_csv(f, sep=',') for f in all_files)\n",
    "# df_merged  = pd.concat(df_from_each_file, ignore_index=True)\n",
    "# df_merged.to_csv( \"merged.csv\")"
   ]
  },
  {
   "cell_type": "code",
   "execution_count": 5,
   "id": "2fbdc8a0",
   "metadata": {},
   "outputs": [],
   "source": [
    "hist=hist.reset_index()"
   ]
  },
  {
   "cell_type": "code",
   "execution_count": 6,
   "id": "49b8e2ab",
   "metadata": {},
   "outputs": [],
   "source": [
    "def get_volume_bars(data: pd.DataFrame, m: int = None):\n",
    "    #if volume amounts to more than m, sample a bar\n",
    "    ts, idx = 0, []\n",
    "    for i, row in data.iterrows():\n",
    "        volume=row['Volume']\n",
    "        ts += volume\n",
    "        if ts >= m:\n",
    "            ts = 0; idx.append(i)\n",
    "            continue\n",
    "    return data.iloc[idx]"
   ]
  },
  {
   "cell_type": "code",
   "execution_count": 7,
   "id": "a32dc9ef",
   "metadata": {},
   "outputs": [],
   "source": [
    "volume_bars=get_volume_bars(hist,1000000)"
   ]
  },
  {
   "cell_type": "code",
   "execution_count": 8,
   "id": "b9c947dc",
   "metadata": {},
   "outputs": [],
   "source": [
    "volume_bars=volume_bars.set_index('Date')"
   ]
  },
  {
   "cell_type": "code",
   "execution_count": 9,
   "id": "cc30ce65",
   "metadata": {},
   "outputs": [],
   "source": [
    "vb_count=volume_bars['Close'].resample('W').count()"
   ]
  },
  {
   "cell_type": "code",
   "execution_count": 10,
   "id": "2dff09d1",
   "metadata": {},
   "outputs": [],
   "source": [
    "df=hist\n",
    "df['dollar_amt']=0.2*(df['Open']+df['Close'])*df['Volume']/2\n",
    "def get_dollar_bars(data: pd.DataFrame, m: int = None):\n",
    "    #if dollars traded amounts to more than m, sample a bar\n",
    "    # currently we have only 1 min data that doesn't show dollars amount, I use (open+close)*volume/2 to estimate\n",
    "    # use 20% as margin requirement, for example, if sc2112 trades at 400 CNY, each position should be 1000*400*20%\n",
    "    ts, idx = 0, []\n",
    "    for i, row in data.iterrows():\n",
    "        volume=row['dollar_amt']\n",
    "        ts += volume\n",
    "        if ts >= m:\n",
    "            ts = 0; idx.append(i)\n",
    "            continue\n",
    "    return data.iloc[idx]"
   ]
  },
  {
   "cell_type": "code",
   "execution_count": 33,
   "id": "f9735e08",
   "metadata": {},
   "outputs": [
    {
     "name": "stdout",
     "output_type": "stream",
     "text": [
      "501\n"
     ]
    }
   ],
   "source": [
    "dollar_bars=get_dollar_bars(df,100000000)\n",
    "print(len(dollar_bars))"
   ]
  },
  {
   "cell_type": "code",
   "execution_count": 34,
   "id": "e2009c30",
   "metadata": {},
   "outputs": [],
   "source": [
    "dollar_bars=dollar_bars.set_index('Date')"
   ]
  },
  {
   "cell_type": "code",
   "execution_count": 35,
   "id": "486c9ec9",
   "metadata": {},
   "outputs": [],
   "source": [
    "db_count=dollar_bars['Close'].resample('W').count()"
   ]
  },
  {
   "cell_type": "code",
   "execution_count": 38,
   "id": "11820df5",
   "metadata": {},
   "outputs": [
    {
     "data": {
      "text/plain": [
       "<AxesSubplot:xlabel='Date'>"
      ]
     },
     "execution_count": 38,
     "metadata": {},
     "output_type": "execute_result"
    },
    {
     "data": {
      "image/png": "[encoded data removed]",
      "text/plain": [
       "<Figure size 1800x360 with 1 Axes>"
      ]
     },
     "metadata": {
      "needs_background": "light"
     },
     "output_type": "display_data"
    }
   ],
   "source": [
    "count_df = pd.concat([vb_count, db_count], axis=1)\n",
    "count_df.columns = ['volume', 'dollar']\n",
    "count_df.loc[:, ['volume', 'dollar']].plot(kind = 'bar', figsize=[25, 5],ylim=(0,7))"
   ]
  },
  {
   "cell_type": "code",
   "execution_count": 40,
   "id": "c6886ef0",
   "metadata": {},
   "outputs": [
    {
     "name": "stdout",
     "output_type": "stream",
     "text": [
      "-0.04009585365360891\n",
      "0.1579446148902405\n"
     ]
    }
   ],
   "source": [
    "print(count_df['dollar'].autocorr())\n",
    "print(count_df['volume'].autocorr())"
   ]
  },
  {
   "cell_type": "code",
   "execution_count": 41,
   "id": "00cb1241",
   "metadata": {},
   "outputs": [],
   "source": [
    "def returns(data, tickers):\n",
    "    b_t = []\n",
    "    _ = data[tickers].pct_change()\n",
    "    _.dropna(inplace=True)\n",
    "    for i, value in enumerate(_):\n",
    "        b_t.append(value)\n",
    "    return b_t\n",
    "\n",
    "def ema_tick(imbalance, weighted_count, weighted_sum, weighted_sum_T, limit, alpha, T_count):\n",
    "    weighted_sum_T = limit + (1 - alpha) * weighted_sum_T\n",
    "    weighted_sum = limit / (1.0 * T_count) + (1 - alpha) * weighted_sum\n",
    "    weighted_count = 1 + (1 - alpha) * weighted_count\n",
    "    imbalance = weighted_sum_T * weighted_sum/ weighted_count ** 2\n",
    "    return imbalance, weighted_count, weighted_sum, weighted_sum_T\n",
    "\n",
    "def imbalance_bar(data, tickers, set_limit, alpha):\n",
    "    b_t = returns(data, tickers)\n",
    "    bt_arr = []\n",
    "    imb_arr = []\n",
    "    weighted_sum_T = 0\n",
    "    weighted_sum = 0\n",
    "    weighted_count = 0\n",
    "    bt_count = 0\n",
    "    bt_up = 0\n",
    "    b_imb_sum = 0\n",
    "    b_sum = 0\n",
    "    imbalance = 0\n",
    "    for i, value in enumerate(b_t):\n",
    "        bt_count += 1\n",
    "        if value >= 0:\n",
    "            b_sum += b_t[i]\n",
    "            b_imb_sum += 1\n",
    "            bt_up += 1\n",
    "            bt_arr.append(b_sum)\n",
    "        else:\n",
    "            b_imb_sum -= 1\n",
    "            b_sum += b_t[i]\n",
    "            bt_arr.append(b_sum)\n",
    "            \n",
    "        upper_limit = max(b_imb_sum, bt_up)\n",
    "        if upper_limit >= set_limit:\n",
    "            imbalance, weighted_count, weighted_sum, weighted_sum_T = ema_tick(imbalance, \n",
    "                                                                               weighted_count,\n",
    "                                                                               weighted_sum,\n",
    "                                                                               weighted_sum_T,\n",
    "                                                                               upper_limit,\n",
    "                                                                               alpha,\n",
    "                                                                               bt_count)\n",
    "            imb_arr.append(imbalance) # exclude ewma without hitting threshold\n",
    "            if upper_limit == bt_up:\n",
    "                bt_up = 0\n",
    "            else:\n",
    "                b_imb_sum = 0\n",
    "        else:\n",
    "            imb_arr.append(0.0)    \n",
    "    return bt_arr, imb_arr, b_t"
   ]
  },
  {
   "cell_type": "code",
   "execution_count": 63,
   "id": "d1bfb285",
   "metadata": {},
   "outputs": [
    {
     "data": {
      "text/plain": [
       "[0.010848810970317757, 0.013479866059929568, -0.004574720433751289]"
      ]
     },
     "execution_count": 63,
     "metadata": {},
     "output_type": "execute_result"
    }
   ],
   "source": [
    "bt_arr,imb_arr,b_t=imbalance_bar(df,'Close',3,0.9)\n",
    "b_t[0:3]"
   ]
  },
  {
   "cell_type": "code",
   "execution_count": 64,
   "id": "8a46ba8c",
   "metadata": {},
   "outputs": [
    {
     "data": {
      "text/plain": [
       "0    2880.50\n",
       "1    2911.75\n",
       "2    2951.00\n",
       "3    2937.50\n",
       "Name: Close, dtype: float64"
      ]
     },
     "execution_count": 64,
     "metadata": {},
     "output_type": "execute_result"
    }
   ],
   "source": [
    "df['Close'][0:4]"
   ]
  },
  {
   "cell_type": "code",
   "execution_count": null,
   "id": "f974457c",
   "metadata": {},
   "outputs": [],
   "source": []
  }
 ],
 "metadata": {
  "kernelspec": {
   "display_name": "Python 3",
   "language": "python",
   "name": "python3"
  },
  "language_info": {
   "codemirror_mode": {
    "name": "ipython",
    "version": 3
   },
   "file_extension": ".py",
   "mimetype": "text/x-python",
   "name": "python",
   "nbconvert_exporter": "python",
   "pygments_lexer": "ipython3",
   "version": "3.6.8"
  }
 },
 "nbformat": 4,
 "nbformat_minor": 5
}
