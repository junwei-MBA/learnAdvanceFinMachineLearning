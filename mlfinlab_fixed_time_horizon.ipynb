{
 "cells": [
  {
   "cell_type": "code",
   "execution_count": 2,
   "id": "5205ec1e",
   "metadata": {},
   "outputs": [],
   "source": [
    "# Import packages\n",
    "import numpy as np\n",
    "import pandas as pd\n",
    "import yfinance as yf\n",
    "import matplotlib.pyplot as plt\n",
    "\n",
    "# Import MlFinlab tools\n",
    "from mlfinlab.labeling import fixed_time_horizon"
   ]
  },
  {
   "cell_type": "code",
   "execution_count": 3,
   "id": "51736105",
   "metadata": {},
   "outputs": [
    {
     "data": {
      "text/plain": [
       "Date\n",
       "2009-12-31    23.585039\n",
       "2010-01-04    23.948719\n",
       "2010-01-05    23.956459\n",
       "2010-01-06    23.809435\n",
       "2010-01-07    23.561827\n",
       "Name: Close, dtype: float64"
      ]
     },
     "execution_count": 3,
     "metadata": {},
     "output_type": "execute_result"
    }
   ],
   "source": [
    "# Load price data. pd.Series is shown but pd.DataFrame works as well\n",
    "msft = yf.Ticker('MSFT')\n",
    "msft_df = msft.history(start='2010-1-1', end ='2020-5-18')\n",
    "\n",
    "close = msft_df['Close']\n",
    "close.head()"
   ]
  },
  {
   "cell_type": "code",
   "execution_count": 4,
   "id": "ae94025c",
   "metadata": {},
   "outputs": [],
   "source": [
    "# Getting labels for a constant threshold of 1%. Will return 1 if the daily return is greater than 1%,\n",
    "# -1 if less than -1%, and  0 if in between\n",
    "bars1 = fixed_time_horizon(prices=close, threshold=0.01, lag=True)"
   ]
  },
  {
   "cell_type": "code",
   "execution_count": 9,
   "id": "fb2349c8",
   "metadata": {},
   "outputs": [
    {
     "data": {
      "image/png": "[encoded data removed]",
      "text/plain": [
       "<Figure size 432x288 with 1 Axes>"
      ]
     },
     "metadata": {
      "needs_background": "light"
     },
     "output_type": "display_data"
    }
   ],
   "source": [
    "ax1 = bars1.value_counts().reindex([-1, 0, 1]).plot(kind='bar', x='label', y='frequency')\n",
    "ax1.set_xlabel('Label')\n",
    "ax1.set_ylabel('Frequency');"
   ]
  },
  {
   "cell_type": "code",
   "execution_count": 10,
   "id": "b1244f5d",
   "metadata": {},
   "outputs": [
    {
     "data": {
      "image/png": "[encoded data removed]",
      "text/plain": [
       "<Figure size 432x288 with 1 Axes>"
      ]
     },
     "metadata": {
      "needs_background": "light"
     },
     "output_type": "display_data"
    }
   ],
   "source": [
    "bars2 = fixed_time_horizon(prices=close, threshold=0.001, lag=True)\n",
    "ax2 = bars2.value_counts().reindex([-1, 0, 1]).plot(kind='bar', x='label', y='frequency')\n",
    "ax2.set_xlabel('Label')\n",
    "ax2.set_ylabel('Frequency');"
   ]
  },
  {
   "cell_type": "code",
   "execution_count": 11,
   "id": "594a6a50",
   "metadata": {},
   "outputs": [],
   "source": [
    "# Rolling standard deviation\n",
    "msft_returns = close.pct_change(periods=1).shift(-1)\n",
    "rolling_std = msft_returns.rolling(10).std()"
   ]
  },
  {
   "cell_type": "code",
   "execution_count": 12,
   "id": "627f15be",
   "metadata": {},
   "outputs": [],
   "source": [
    "bars3 = fixed_time_horizon(prices=close, threshold=rolling_std, lag=True)\n",
    "#Because the first 9 values in the rolling_std are NaN due to the rolling window, there is no threshold to compare the first 9 returns to. So we must remove the first 9 returns as they are not labeled.\n",
    "bars3 = bars3.iloc[9:]"
   ]
  },
  {
   "cell_type": "code",
   "execution_count": 13,
   "id": "6ccad9c4",
   "metadata": {},
   "outputs": [
    {
     "data": {
      "image/png": "[encoded data removed]",
      "text/plain": [
       "<Figure size 432x288 with 1 Axes>"
      ]
     },
     "metadata": {
      "needs_background": "light"
     },
     "output_type": "display_data"
    }
   ],
   "source": [
    "ax3 = bars3.value_counts().reindex([-1, 0, 1]).plot(kind='bar', x='label', y='frequency')\n",
    "ax3.set_xlabel('Label')\n",
    "ax3.set_ylabel('Frequency');"
   ]
  },
  {
   "cell_type": "code",
   "execution_count": 14,
   "id": "274f5e2c",
   "metadata": {},
   "outputs": [
    {
     "data": {
      "text/plain": [
       "Date\n",
       "2009-12-31    0.016960\n",
       "2010-01-04    0.002647\n",
       "2010-01-05    0.000704\n",
       "2010-01-06    0.004221\n",
       "2010-01-07    0.003328\n",
       "Name: Close, dtype: float64"
      ]
     },
     "execution_count": 14,
     "metadata": {},
     "output_type": "execute_result"
    }
   ],
   "source": [
    "# Threshold on market returns\n",
    "spy = yf.Ticker('SPY')\n",
    "spy_df = spy.history(start='2010-1-1', end ='2020-5-18')\n",
    "market_close = spy_df['Close']\n",
    "\n",
    "market_returns = market_close.pct_change(1).shift(-1)\n",
    "market_returns.head()"
   ]
  },
  {
   "cell_type": "code",
   "execution_count": 15,
   "id": "e2c21d4c",
   "metadata": {},
   "outputs": [],
   "source": [
    "bars4 = fixed_time_horizon(prices=close, threshold=market_returns, lag=True)"
   ]
  },
  {
   "cell_type": "code",
   "execution_count": 16,
   "id": "566bb212",
   "metadata": {},
   "outputs": [
    {
     "data": {
      "image/png": "[encoded data removed]",
      "text/plain": [
       "<Figure size 432x288 with 1 Axes>"
      ]
     },
     "metadata": {
      "needs_background": "light"
     },
     "output_type": "display_data"
    }
   ],
   "source": [
    "ax4 = bars4.value_counts().reindex([-1, 0, 1]).plot(kind='bar', x='label', y='frequency')\n",
    "ax4.set_xlabel('Label')\n",
    "ax4.set_ylabel('Frequency');"
   ]
  },
  {
   "cell_type": "code",
   "execution_count": 17,
   "id": "602f08ab",
   "metadata": {},
   "outputs": [
    {
     "data": {
      "text/plain": [
       "Date\n",
       "2009-12-31    0.015420\n",
       "2010-01-04    0.000323\n",
       "2010-01-05   -0.006137\n",
       "2010-01-06   -0.010400\n",
       "2010-01-07    0.006897\n",
       "                ...   \n",
       "2020-05-11   -0.022652\n",
       "2020-05-12   -0.015123\n",
       "2020-05-13    0.004339\n",
       "2020-05-14    0.014568\n",
       "2020-05-15         NaN\n",
       "Name: Close, Length: 2611, dtype: float64"
      ]
     },
     "execution_count": 17,
     "metadata": {},
     "output_type": "execute_result"
    }
   ],
   "source": [
    "close.pct_change(periods=1).shift(-1)"
   ]
  },
  {
   "cell_type": "code",
   "execution_count": 18,
   "id": "80101b08",
   "metadata": {},
   "outputs": [],
   "source": [
    "bars5 = fixed_time_horizon(prices=close, threshold=1, lag=True, standardized=True, window=5)"
   ]
  },
  {
   "cell_type": "code",
   "execution_count": 19,
   "id": "6e0332ba",
   "metadata": {},
   "outputs": [
    {
     "data": {
      "image/png": "[encoded data removed]",
      "text/plain": [
       "<Figure size 432x288 with 1 Axes>"
      ]
     },
     "metadata": {
      "needs_background": "light"
     },
     "output_type": "display_data"
    }
   ],
   "source": [
    "ax5 = bars5.value_counts().reindex([-1, 0, 1]).plot(kind='bar', x='label', y='frequency')\n",
    "ax5.set_xlabel('Label')\n",
    "ax5.set_ylabel('Frequency');"
   ]
  },
  {
   "cell_type": "code",
   "execution_count": 20,
   "id": "17c92f12",
   "metadata": {},
   "outputs": [],
   "source": [
    "bars6 = fixed_time_horizon(prices=close, threshold=1, resample_by='W', lag=True, standardized=True, window=4)"
   ]
  },
  {
   "cell_type": "code",
   "execution_count": 21,
   "id": "96bca789",
   "metadata": {},
   "outputs": [
    {
     "data": {
      "image/png": "[encoded data removed]",
      "text/plain": [
       "<Figure size 432x288 with 1 Axes>"
      ]
     },
     "metadata": {
      "needs_background": "light"
     },
     "output_type": "display_data"
    }
   ],
   "source": [
    "ax6 = bars6.value_counts().reindex([-1, 0, 1]).plot(kind='bar', x='label', y='frequency')\n",
    "ax6.set_xlabel('Label')\n",
    "ax6.set_ylabel('Frequency');"
   ]
  },
  {
   "cell_type": "code",
   "execution_count": null,
   "id": "fbef1e15",
   "metadata": {},
   "outputs": [],
   "source": []
  }
 ],
 "metadata": {
  "kernelspec": {
   "display_name": "Python 3 (ipykernel)",
   "language": "python",
   "name": "python3"
  },
  "language_info": {
   "codemirror_mode": {
    "name": "ipython",
    "version": 3
   },
   "file_extension": ".py",
   "mimetype": "text/x-python",
   "name": "python",
   "nbconvert_exporter": "python",
   "pygments_lexer": "ipython3",
   "version": "3.8.12"
  }
 },
 "nbformat": 4,
 "nbformat_minor": 5
}
