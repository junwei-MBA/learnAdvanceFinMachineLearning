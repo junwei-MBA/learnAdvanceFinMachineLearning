{
 "cells": [
  {
   "cell_type": "code",
   "execution_count": 59,
   "id": "7545197a",
   "metadata": {},
   "outputs": [],
   "source": [
    "# Import packages\n",
    "import numpy as np\n",
    "import pandas as pd\n",
    "import scipy.stats as st\n",
    "import matplotlib.pyplot as plt\n",
    "from scipy.stats import jarque_bera\n",
    "from scipy.stats import linregress\n",
    "from scipy.optimize import curve_fit \n",
    "from statsmodels.tsa.stattools import adfuller\n",
    "from statsmodels.tsa.stattools import coint"
   ]
  },
  {
   "cell_type": "code",
   "execution_count": 2,
   "id": "4b5ad443",
   "metadata": {},
   "outputs": [],
   "source": [
    "# Import MlFinLab tools\n",
    "from mlfinlab.filters import filters\n",
    "from mlfinlab.labeling import labeling\n",
    "from mlfinlab.util import volatility\n",
    "from mlfinlab.features import fracdiff"
   ]
  },
  {
   "cell_type": "code",
   "execution_count": 3,
   "id": "b0370901",
   "metadata": {},
   "outputs": [],
   "source": [
    "# Creating an ADF test\n",
    "adf = lambda s: adfuller(s, autolag='AIC')\n",
    "p_val = lambda s: adfuller(s, autolag='AIC')[1]"
   ]
  },
  {
   "cell_type": "markdown",
   "id": "2168aeab",
   "metadata": {},
   "source": [
    "# 5.1 Generate a time series from an IID Gaussian random process.  This is a memory-less, stationary process"
   ]
  },
  {
   "cell_type": "code",
   "execution_count": 4,
   "id": "066e7968",
   "metadata": {},
   "outputs": [],
   "source": [
    "# Generate 10000 IID random numbers \n",
    "nsample = 32768\n",
    "mu = 0\n",
    "sd = 1\n",
    "ts = np.random.normal(mu, sd, nsample)"
   ]
  },
  {
   "cell_type": "code",
   "execution_count": 5,
   "id": "cf79deb0",
   "metadata": {},
   "outputs": [
    {
     "data": {
      "image/png": "[encoded data removed]",
      "text/plain": [
       "<Figure size 432x288 with 1 Axes>"
      ]
     },
     "metadata": {
      "needs_background": "light"
     },
     "output_type": "display_data"
    }
   ],
   "source": [
    "# Plot the numbers\n",
    "plt.plot(ts)\n",
    "plt.title('IID Series');"
   ]
  },
  {
   "cell_type": "code",
   "execution_count": 9,
   "id": "14ba5002",
   "metadata": {},
   "outputs": [
    {
     "data": {
      "text/plain": [
       "0.9945524296065357"
      ]
     },
     "execution_count": 9,
     "metadata": {},
     "output_type": "execute_result"
    }
   ],
   "source": [
    "np.std(ts)"
   ]
  },
  {
   "cell_type": "code",
   "execution_count": 10,
   "id": "d7da1f65",
   "metadata": {},
   "outputs": [
    {
     "name": "stdout",
     "output_type": "stream",
     "text": [
      "Mean: -0.0092, SD: 0.9946, Skewness: -0.0061, Kurtosis: 0.0367\n"
     ]
    }
   ],
   "source": [
    "# Print various statistics of the time series\n",
    "print('Mean: {:.4f}, SD: {:.4f}, Skewness: {:.4f}, Kurtosis: {:.4f}'.format(np.mean(ts), np.std(ts),\n",
    "                                                                            st.skew(ts), st.kurtosis(ts)))"
   ]
  },
  {
   "cell_type": "markdown",
   "id": "fb3e200f",
   "metadata": {},
   "source": [
    "## 5.1(a) Compute the ADF statistics on this series. What is the p-value?"
   ]
  },
  {
   "cell_type": "code",
   "execution_count": 11,
   "id": "1f3ee893",
   "metadata": {},
   "outputs": [
    {
     "name": "stdout",
     "output_type": "stream",
     "text": [
      "(-126.6418502090325, 0.0, 1, 32766, {'1%': -3.430549591417119, '5%': -2.861628214284826, '10%': -2.56681695372426}, 92480.49739382943)\n"
     ]
    }
   ],
   "source": [
    "adf_test = adfuller(ts, autolag='AIC')\n",
    "print(adf_test)"
   ]
  },
  {
   "cell_type": "markdown",
   "id": "7eeeaca4",
   "metadata": {},
   "source": [
    "*The p-value is 0.0 and the abs(statistics) is very large compared to the critical value at 1% level, so we reject the null \n",
    "that there is a unit root*"
   ]
  },
  {
   "cell_type": "markdown",
   "id": "eb29c8ec",
   "metadata": {},
   "source": [
    "## 5.1 b: Compute the cumulative sum of the observations.  This is a non-stationary series with memory"
   ]
  },
  {
   "cell_type": "code",
   "execution_count": 12,
   "id": "cfe0b8e6",
   "metadata": {},
   "outputs": [
    {
     "name": "stdout",
     "output_type": "stream",
     "text": [
      "(-0.919546542596734, 0.7814673299436754, 2, 32765, {'1%': -3.4305495975092004, '5%': -2.8616282169772793, '10%': -2.5668169551573854}, 92481.52572499932)\n",
      "0.7814673299436754\n"
     ]
    }
   ],
   "source": [
    "cumsum_ts = np.cumsum(ts)\n",
    "print(adf(cumsum_ts))\n",
    "print(p_val(cumsum_ts))"
   ]
  },
  {
   "cell_type": "markdown",
   "id": "2ed6a893",
   "metadata": {},
   "source": [
    "*The adfuller test shows that p-value (0.12)(Why 0.12? Junwei thinks it should be 0.78) is not close to zero and the stat is not near the critical value of 1%.  Hence the series is not stationary as stated in the question.*  "
   ]
  },
  {
   "cell_type": "markdown",
   "id": "31547575",
   "metadata": {},
   "source": [
    "### 5.1.b.i Compute the order of integration of this cumulative series\n"
   ]
  },
  {
   "cell_type": "markdown",
   "id": "8ceffe10",
   "metadata": {},
   "source": [
    "We know that I(0) is not stationary (see above) ... Let's check I(1)"
   ]
  },
  {
   "cell_type": "code",
   "execution_count": 13,
   "id": "393b7ba2",
   "metadata": {},
   "outputs": [],
   "source": [
    "# I(1)\n",
    "i1_series = np.ediff1d(cumsum_ts)"
   ]
  },
  {
   "cell_type": "code",
   "execution_count": 14,
   "id": "60de979d",
   "metadata": {},
   "outputs": [
    {
     "data": {
      "text/plain": [
       "array([ 0.9520654 , -0.56329578,  0.39750854, -0.03024007, -0.25238063,\n",
       "        0.25229121,  3.58867374, -0.74134231, -0.33877035,  1.37300673])"
      ]
     },
     "execution_count": 14,
     "metadata": {},
     "output_type": "execute_result"
    }
   ],
   "source": [
    "i1_series[0:10]"
   ]
  },
  {
   "cell_type": "code",
   "execution_count": 15,
   "id": "4bdff68f",
   "metadata": {},
   "outputs": [
    {
     "name": "stdout",
     "output_type": "stream",
     "text": [
      "(-126.63499464186316, 0.0, 1, 32765, {'1%': -3.4305495975092004, '5%': -2.8616282169772793, '10%': -2.5668169551573854}, 92477.2502571122)\n"
     ]
    }
   ],
   "source": [
    "print(adf(i1_series))"
   ]
  },
  {
   "cell_type": "markdown",
   "id": "50a80c6e",
   "metadata": {},
   "source": [
    "*The p-value is 0 indicating that the series is stationary*"
   ]
  },
  {
   "cell_type": "markdown",
   "id": "53d1a5e8",
   "metadata": {},
   "source": [
    "## 5.1 c: Differentiate the series twice. What is the p-value of this over-differentiated series?\n"
   ]
  },
  {
   "cell_type": "code",
   "execution_count": 16,
   "id": "675d3708",
   "metadata": {},
   "outputs": [],
   "source": [
    "i2_series = np.ediff1d(i1_series)"
   ]
  },
  {
   "cell_type": "code",
   "execution_count": 17,
   "id": "2815b8ca",
   "metadata": {},
   "outputs": [
    {
     "data": {
      "text/plain": [
       "(-42.89482210679179,\n",
       " 0.0,\n",
       " 52,\n",
       " 32713,\n",
       " {'1%': -3.4305499148107343,\n",
       "  '5%': -2.8616283572116923,\n",
       "  '10%': -2.56681702980063},\n",
       " 93111.54284875168)"
      ]
     },
     "execution_count": 17,
     "metadata": {},
     "output_type": "execute_result"
    }
   ],
   "source": [
    "adf(i2_series)"
   ]
  },
  {
   "cell_type": "markdown",
   "id": "922e4f52",
   "metadata": {},
   "source": [
    "*The p-value is 0.0 indicating that the series is stationary*"
   ]
  },
  {
   "cell_type": "markdown",
   "id": "c7676518",
   "metadata": {},
   "source": [
    "# 5.2 Generate a time series that follows a sinosoidal function. This is a stationary series with memory "
   ]
  },
  {
   "cell_type": "code",
   "execution_count": 18,
   "id": "cacb6898",
   "metadata": {},
   "outputs": [
    {
     "data": {
      "image/png": "[encoded data removed]",
      "text/plain": [
       "<Figure size 432x288 with 1 Axes>"
      ]
     },
     "metadata": {
      "needs_background": "light"
     },
     "output_type": "display_data"
    }
   ],
   "source": [
    "# Generate 100 points \n",
    "nsample = 1000\n",
    "\n",
    "# Simulate a simple sinusoidal function\n",
    "x1 = np.linspace(0, 10, nsample)\n",
    "y = pd.Series(1*np.sin(2.0 * x1 + .5))\n",
    "y.plot();"
   ]
  },
  {
   "cell_type": "code",
   "execution_count": 19,
   "id": "4dba1e5b",
   "metadata": {},
   "outputs": [
    {
     "name": "stdout",
     "output_type": "stream",
     "text": [
      "(-1098471369655040.0, 0.0, 22, 977, {'1%': -3.43706091543889, '5%': -2.8645028204932483, '10%': -2.568347558984588}, -69495.56277374188)\n",
      "\n",
      "p-value: 0.000000\n"
     ]
    }
   ],
   "source": [
    "print(adf(y))\n",
    "print('\\np-value: {:0.6f}'.format(p_val(y)))"
   ]
  },
  {
   "cell_type": "markdown",
   "id": "cb114891",
   "metadata": {},
   "source": [
    "*The results indicate that the series is stationary*\n",
    "\n",
    "## 5.2 b: Shift every observation by the same positive value. Compute the cumulative sum of the observations. This is a non-stationary series with memory\n"
   ]
  },
  {
   "cell_type": "code",
   "execution_count": 21,
   "id": "784441dc",
   "metadata": {},
   "outputs": [
    {
     "data": {
      "image/png": "[encoded data removed]",
      "text/plain": [
       "<Figure size 432x288 with 1 Axes>"
      ]
     },
     "metadata": {
      "needs_background": "light"
     },
     "output_type": "display_data"
    }
   ],
   "source": [
    "c_constant = 1.\n",
    "y_shifted = (y + c_constant).cumsum().rename('Shifted_series').to_frame()\n",
    "y_shifted.plot();"
   ]
  },
  {
   "cell_type": "code",
   "execution_count": 22,
   "id": "b4ba131b",
   "metadata": {},
   "outputs": [
    {
     "name": "stdout",
     "output_type": "stream",
     "text": [
      "(9.16477896797983, 1.0, 15, 984, {'1%': -3.437013049776705, '5%': -2.864481711583566, '10%': -2.5683363157264196}, -57982.508881725546)\n",
      "\n",
      "p-value: 1.000000\n"
     ]
    }
   ],
   "source": [
    "print(adf(y_shifted['Shifted_series']))\n",
    "print('\\np-value: {:0.6f}'.format(p_val(y_shifted['Shifted_series'])))"
   ]
  },
  {
   "cell_type": "markdown",
   "id": "65d031f3",
   "metadata": {},
   "source": [
    "## 5.2.ii Apply an expanding window fracDiff, with tau=1e-2. What is the minimum *d* value do you get a p-value below 5%?"
   ]
  },
  {
   "cell_type": "code",
   "execution_count": 23,
   "id": "d17aa841",
   "metadata": {},
   "outputs": [],
   "source": [
    "fd_series = fracdiff.frac_diff(y_shifted, 0.245)"
   ]
  },
  {
   "cell_type": "code",
   "execution_count": 24,
   "id": "f828359d",
   "metadata": {},
   "outputs": [
    {
     "name": "stdout",
     "output_type": "stream",
     "text": [
      "\n",
      "p-value: 0.000000\n"
     ]
    }
   ],
   "source": [
    "adf(fd_series['Shifted_series'].dropna())\n",
    "print('\\np-value: {:0.6f}'.format(p_val(fd_series['Shifted_series'].dropna())))"
   ]
  },
  {
   "cell_type": "markdown",
   "id": "8abe44b5",
   "metadata": {},
   "source": [
    "The minimum value of d is 0.245"
   ]
  },
  {
   "cell_type": "markdown",
   "id": "a8ff0bdf",
   "metadata": {},
   "source": [
    "## 5.2.iii Apply FFD, with tau=1e-5. What is the minimum *d* value do you get a p-value below 5%?"
   ]
  },
  {
   "cell_type": "code",
   "execution_count": 25,
   "id": "5ad6e8ad",
   "metadata": {},
   "outputs": [],
   "source": [
    "fd_series = fracdiff.frac_diff_ffd(y_shifted, 0.999999998999)"
   ]
  },
  {
   "cell_type": "code",
   "execution_count": 26,
   "id": "eeba3cdf",
   "metadata": {},
   "outputs": [
    {
     "name": "stdout",
     "output_type": "stream",
     "text": [
      "\n",
      "p-value: 0.958526\n"
     ]
    }
   ],
   "source": [
    "adf(fd_series['Shifted_series'].dropna())\n",
    "print('\\np-value: {:0.6f}'.format(p_val(fd_series['Shifted_series'].dropna())))"
   ]
  },
  {
   "cell_type": "markdown",
   "id": "35676839",
   "metadata": {},
   "source": [
    "The minimum value of d is 0.999999998999"
   ]
  },
  {
   "cell_type": "markdown",
   "id": "c44e7b54",
   "metadata": {},
   "source": [
    "# 5.3 Take the series from exercise 5.2.b\n"
   ]
  },
  {
   "cell_type": "markdown",
   "id": "4dc762d6",
   "metadata": {},
   "source": [
    "## (a) Fit the series to a sine function. What is the R-squared?"
   ]
  },
  {
   "cell_type": "code",
   "execution_count": 28,
   "id": "c9eba796",
   "metadata": {},
   "outputs": [
    {
     "data": {
      "image/png": "[encoded data removed]",
      "text/plain": [
       "<Figure size 720x576 with 1 Axes>"
      ]
     },
     "metadata": {
      "needs_background": "light"
     },
     "output_type": "display_data"
    }
   ],
   "source": [
    "# Take the series from 5.2.b - which is the cumulative series (y_shifted)\n",
    "y_shifted.plot(figsize=(10,8));"
   ]
  },
  {
   "cell_type": "code",
   "execution_count": 29,
   "id": "2e07cf3d",
   "metadata": {},
   "outputs": [
    {
     "data": {
      "image/png": "[encoded data removed]",
      "text/plain": [
       "<Figure size 720x576 with 1 Axes>"
      ]
     },
     "metadata": {
      "needs_background": "light"
     },
     "output_type": "display_data"
    }
   ],
   "source": [
    "x_data = x1\n",
    "y_data = y_shifted['Shifted_series'].values\n",
    "plt.figure(figsize=(10, 8))\n",
    "plt.scatter(x_data, y_data);"
   ]
  },
  {
   "cell_type": "markdown",
   "id": "121c1fa7",
   "metadata": {},
   "source": [
    "Taken from: https://stackoverflow.com/questions/16716302/how-do-i-fit-a-sine-curve-to-my-data-with-pylab-and-numpy/42322656"
   ]
  },
  {
   "cell_type": "code",
   "execution_count": 30,
   "id": "02a53eb5",
   "metadata": {},
   "outputs": [],
   "source": [
    "def fit_sin(tt, yy):\n",
    "    \"\"\"\n",
    "    Fit sin to the input time sequence, and return fitting parameters \n",
    "    \"amp\", \"omega\", \"phase\", \"offset\", \"freq\", \"period\" and \"fitfunc\".\n",
    "    \"\"\"\n",
    "\n",
    "    tt = np.array(tt)\n",
    "    yy = np.array(yy)\n",
    "    \n",
    "    # Assume uniform spacing\n",
    "    ff = np.fft.fftfreq(len(tt), (tt[1]-tt[0]))\n",
    "    Fyy = abs(np.fft.fft(yy))\n",
    "\n",
    "    # Excluding the zero frequency \"peak\", which is related to offset\n",
    "    guess_freq = abs(ff[np.argmax(Fyy[1:])+1])\n",
    "    guess_amp = np.std(yy) * 2.**0.5\n",
    "    guess_offset = np.mean(yy)\n",
    "    guess = np.array([guess_amp, 2.*np.pi*guess_freq, 0., guess_offset])\n",
    "\n",
    "    def sinfunc(t, A, w, p, c):  return A * np.sin(w*t + p) + c\n",
    "    \n",
    "    popt, pcov = curve_fit(sinfunc, tt, yy, p0=guess)\n",
    "    A, w, p, c = popt\n",
    "    f = w/(2.*np.pi)\n",
    "    fitfunc = lambda t: A * np.sin(w*t + p) + c\n",
    "    \n",
    "    return {\"amp\": A, \"omega\": w, \"phase\": p, \"offset\": c, \"freq\": f, \"period\": 1./f, \n",
    "            \"fitfunc\": fitfunc, \"maxcov\": np.max(pcov), \"rawres\": (guess,popt,pcov)}"
   ]
  },
  {
   "cell_type": "code",
   "execution_count": 31,
   "id": "34bb0f08",
   "metadata": {},
   "outputs": [],
   "source": [
    "res = fit_sin(x_data, y_data)"
   ]
  },
  {
   "cell_type": "code",
   "execution_count": 32,
   "id": "7b5bca8f",
   "metadata": {},
   "outputs": [
    {
     "name": "stdout",
     "output_type": "stream",
     "text": [
      "Amplitude=-848.3145437516896, Angular freq.=0.12009541076103078, phase=2.631849885877873, \n",
      "offset=470.96698404741915, Max. Cov.=8525.816038023124\n"
     ]
    },
    {
     "data": {
      "image/png": "[encoded data removed]",
      "text/plain": [
       "<Figure size 720x576 with 1 Axes>"
      ]
     },
     "metadata": {
      "needs_background": "light"
     },
     "output_type": "display_data"
    }
   ],
   "source": [
    "print( \"Amplitude=%(amp)s, Angular freq.=%(omega)s, phase=%(phase)s, \\noffset=%(offset)s, Max. Cov.=%(maxcov)s\" % res )\n",
    "plt.figure(figsize=(10,8))\n",
    "plt.plot(x_data, y_data, \"-k\", label=\"y\", linewidth=2)\n",
    "plt.plot(x_data, res[\"fitfunc\"](x_data), \"r-\", label=\"y fit curve\", linewidth=2)\n",
    "plt.legend(loc=\"best\")\n",
    "plt.show();"
   ]
  },
  {
   "cell_type": "code",
   "execution_count": 33,
   "id": "f97d93fc",
   "metadata": {},
   "outputs": [],
   "source": [
    "# Linearly regress the computed values with those of the original values and extract the r-squared\n",
    "computed_y_values = res['fitfunc'](x_data)\n",
    "slope, intercept, r_val, _, _ = linregress(y_data, computed_y_values)"
   ]
  },
  {
   "cell_type": "code",
   "execution_count": 34,
   "id": "f030190c",
   "metadata": {},
   "outputs": [
    {
     "name": "stdout",
     "output_type": "stream",
     "text": [
      "Slope: 0.986, intercept: 7.644, r-sq: 0.993\n"
     ]
    }
   ],
   "source": [
    "print('Slope: {:0.3f}, intercept: {:0.3f}, r-sq: {:0.3f}'.format(slope, intercept, r_val))"
   ]
  },
  {
   "cell_type": "markdown",
   "id": "cae25eb5",
   "metadata": {},
   "source": [
    "## 5.3.b. Apply FFD(d=1). Fit the series to a sine function. What is the r-squared?\n"
   ]
  },
  {
   "cell_type": "code",
   "execution_count": 35,
   "id": "02969779",
   "metadata": {},
   "outputs": [],
   "source": [
    "fd_series = fracdiff.frac_diff_ffd(y_shifted, diff_amt=1.0).dropna()"
   ]
  },
  {
   "cell_type": "code",
   "execution_count": 36,
   "id": "162915c1",
   "metadata": {},
   "outputs": [],
   "source": [
    "x_data = fd_series.index\n",
    "y_data = fd_series['Shifted_series'].values\n",
    "res = fit_sin(x_data, y_data)"
   ]
  },
  {
   "cell_type": "code",
   "execution_count": 37,
   "id": "625d54a0",
   "metadata": {},
   "outputs": [
    {
     "name": "stdout",
     "output_type": "stream",
     "text": [
      "Amplitude=0.9999999999999987, Angular freq.=0.02002002002002002, phase=0.49999999999999806, \n",
      "offset=0.9999999999999988, Max. Cov.=6.458412869958622e-30\n"
     ]
    },
    {
     "data": {
      "image/png": "[encoded data removed]",
      "text/plain": [
       "<Figure size 720x576 with 1 Axes>"
      ]
     },
     "metadata": {
      "needs_background": "light"
     },
     "output_type": "display_data"
    }
   ],
   "source": [
    "print( \"Amplitude=%(amp)s, Angular freq.=%(omega)s, phase=%(phase)s, \\noffset=%(offset)s, Max. Cov.=%(maxcov)s\" % res )\n",
    "plt.figure(figsize=(10,8))\n",
    "plt.plot(x_data, y_data, \"-k\", label=\"y\", linewidth=2)\n",
    "plt.plot(x_data, res[\"fitfunc\"](x_data), \"r-\", label=\"y fit curve\", linewidth=2)\n",
    "plt.legend(loc=\"best\")\n",
    "plt.show();"
   ]
  },
  {
   "cell_type": "code",
   "execution_count": 38,
   "id": "d31bba3f",
   "metadata": {},
   "outputs": [
    {
     "name": "stdout",
     "output_type": "stream",
     "text": [
      "Slope: 1.000, intercept: 0.000, r-sq: 1.0000000000\n"
     ]
    }
   ],
   "source": [
    "# Linearly regress the computed values with those of the original values and extract the r-squared\n",
    "computed_y_values = res['fitfunc'](x_data)\n",
    "slope, intercept, r_val, _, _ = linregress(y_data, computed_y_values)\n",
    "print('Slope: {:0.3f}, intercept: {:0.3f}, r-sq: {:0.10f}'.format(slope, intercept, r_val))"
   ]
  },
  {
   "cell_type": "markdown",
   "id": "e176745a",
   "metadata": {},
   "source": [
    "## 5.3.c What value of *d* maximizes the r-squared of a sinusoidal fit on FFD(d)? why?\n"
   ]
  },
  {
   "cell_type": "markdown",
   "id": "bb90076e",
   "metadata": {},
   "source": [
    "*The r-squared is 1.00 (that is the maximum value). fracDiff_FFD with d=1 makes the series stationary (there is no trend and it is homoscadestic) and since there is no noise the curve fit is complete.*"
   ]
  },
  {
   "cell_type": "markdown",
   "id": "8a84b4a4",
   "metadata": {},
   "source": [
    "# 5.4 Take the dollar bar series on E-mini S&P 500 futures. Using the code in Snippet 5.3, for some d in [0, 2], compute the fracDiff_FFD(fracDiff_FFD(series, d), -d). What do you get? Why?"
   ]
  },
  {
   "cell_type": "code",
   "execution_count": 40,
   "id": "8c161004",
   "metadata": {},
   "outputs": [],
   "source": [
    "# Read in data\n",
    "data = pd.read_csv('../Sample-Data/dollar_bars.csv')\n",
    "data.index = pd.to_datetime(data['date_time'])\n",
    "data = data.drop('date_time', axis=1)"
   ]
  },
  {
   "cell_type": "code",
   "execution_count": 41,
   "id": "13553dbf",
   "metadata": {},
   "outputs": [],
   "source": [
    "data_series = data['close'].to_frame()"
   ]
  },
  {
   "cell_type": "code",
   "execution_count": 44,
   "id": "1c25b8db",
   "metadata": {},
   "outputs": [],
   "source": [
    "d = 1.5\n",
    "fd = fracdiff.frac_diff_ffd(fracdiff.frac_diff_ffd(data_series, d), -d)"
   ]
  },
  {
   "cell_type": "code",
   "execution_count": 45,
   "id": "0918a8c8",
   "metadata": {},
   "outputs": [
    {
     "data": {
      "text/plain": [
       "close    24079\n",
       "dtype: int64"
      ]
     },
     "execution_count": 45,
     "metadata": {},
     "output_type": "execute_result"
    }
   ],
   "source": [
    "fd.isna().sum()"
   ]
  },
  {
   "cell_type": "markdown",
   "id": "75eda560",
   "metadata": {},
   "source": [
    "*The result is that the series fd is all NaNs.  The reason is when d is negative it takes an almost infinite number of observations for the weights to be lower than the threshold. That in turn leads to all the elements of the \"seriesF\" in frac_diff_ffd to have a value of NaNs. See the example below.*"
   ]
  },
  {
   "cell_type": "code",
   "execution_count": 46,
   "id": "b91691ff",
   "metadata": {},
   "outputs": [
    {
     "data": {
      "text/plain": [
       "array([[-0.0165],\n",
       "       [-0.045 ],\n",
       "       [-0.9   ],\n",
       "       [ 1.    ]])"
      ]
     },
     "execution_count": 46,
     "metadata": {},
     "output_type": "execute_result"
    }
   ],
   "source": [
    "d = 0.9\n",
    "w = fracdiff.get_weights_ffd(d, 1e-2, 10)\n",
    "w"
   ]
  },
  {
   "cell_type": "code",
   "execution_count": 47,
   "id": "aef57749",
   "metadata": {},
   "outputs": [
    {
     "data": {
      "text/plain": [
       "array([[0.74749788],\n",
       "       [0.75589673],\n",
       "       [0.76546504],\n",
       "       [0.77655874],\n",
       "       [0.78972075],\n",
       "       [0.8058375 ],\n",
       "       [0.8265    ],\n",
       "       [0.855     ],\n",
       "       [0.9       ],\n",
       "       [1.        ]])"
      ]
     },
     "execution_count": 47,
     "metadata": {},
     "output_type": "execute_result"
    }
   ],
   "source": [
    "w = fracdiff.get_weights_ffd(-d, 1e-2, 10)\n",
    "w"
   ]
  },
  {
   "cell_type": "markdown",
   "id": "c80e94d7",
   "metadata": {},
   "source": [
    "# 5.5 Take the dollar bar series on E-mini S&P 500 futures. \n",
    "\n",
    "## 5.5.a Form a new series as a cumulative sum of log prices"
   ]
  },
  {
   "cell_type": "code",
   "execution_count": 48,
   "id": "2aeb44c9",
   "metadata": {},
   "outputs": [
    {
     "data": {
      "text/html": [
       "<div>\n",
       "<style scoped>\n",
       "    .dataframe tbody tr th:only-of-type {\n",
       "        vertical-align: middle;\n",
       "    }\n",
       "\n",
       "    .dataframe tbody tr th {\n",
       "        vertical-align: top;\n",
       "    }\n",
       "\n",
       "    .dataframe thead th {\n",
       "        text-align: right;\n",
       "    }\n",
       "</style>\n",
       "<table border=\"1\" class=\"dataframe\">\n",
       "  <thead>\n",
       "    <tr style=\"text-align: right;\">\n",
       "      <th></th>\n",
       "      <th>open</th>\n",
       "      <th>high</th>\n",
       "      <th>low</th>\n",
       "      <th>close</th>\n",
       "      <th>cum_vol</th>\n",
       "      <th>cum_dollar</th>\n",
       "      <th>cum_ticks</th>\n",
       "    </tr>\n",
       "    <tr>\n",
       "      <th>date_time</th>\n",
       "      <th></th>\n",
       "      <th></th>\n",
       "      <th></th>\n",
       "      <th></th>\n",
       "      <th></th>\n",
       "      <th></th>\n",
       "      <th></th>\n",
       "    </tr>\n",
       "  </thead>\n",
       "  <tbody>\n",
       "    <tr>\n",
       "      <th>2015-01-01 23:00:23.723</th>\n",
       "      <td>2053.00</td>\n",
       "      <td>2056.75</td>\n",
       "      <td>2051.00</td>\n",
       "      <td>2056.75</td>\n",
       "      <td>34102</td>\n",
       "      <td>70001096.75</td>\n",
       "      <td>8478</td>\n",
       "    </tr>\n",
       "    <tr>\n",
       "      <th>2015-01-02 07:07:35.156</th>\n",
       "      <td>2056.75</td>\n",
       "      <td>2067.25</td>\n",
       "      <td>2056.25</td>\n",
       "      <td>2064.00</td>\n",
       "      <td>33968</td>\n",
       "      <td>70010061.25</td>\n",
       "      <td>14514</td>\n",
       "    </tr>\n",
       "    <tr>\n",
       "      <th>2015-01-02 09:35:57.204</th>\n",
       "      <td>2064.00</td>\n",
       "      <td>2067.25</td>\n",
       "      <td>2058.75</td>\n",
       "      <td>2060.50</td>\n",
       "      <td>33972</td>\n",
       "      <td>70087834.25</td>\n",
       "      <td>16152</td>\n",
       "    </tr>\n",
       "    <tr>\n",
       "      <th>2015-01-02 12:59:42.176</th>\n",
       "      <td>2060.50</td>\n",
       "      <td>2062.00</td>\n",
       "      <td>2057.75</td>\n",
       "      <td>2061.00</td>\n",
       "      <td>33985</td>\n",
       "      <td>70006169.75</td>\n",
       "      <td>15502</td>\n",
       "    </tr>\n",
       "    <tr>\n",
       "      <th>2015-01-02 14:19:33.847</th>\n",
       "      <td>2061.00</td>\n",
       "      <td>2064.25</td>\n",
       "      <td>2058.75</td>\n",
       "      <td>2063.75</td>\n",
       "      <td>33958</td>\n",
       "      <td>70000723.25</td>\n",
       "      <td>12332</td>\n",
       "    </tr>\n",
       "  </tbody>\n",
       "</table>\n",
       "</div>"
      ],
      "text/plain": [
       "                            open     high      low    close  cum_vol  \\\n",
       "date_time                                                              \n",
       "2015-01-01 23:00:23.723  2053.00  2056.75  2051.00  2056.75    34102   \n",
       "2015-01-02 07:07:35.156  2056.75  2067.25  2056.25  2064.00    33968   \n",
       "2015-01-02 09:35:57.204  2064.00  2067.25  2058.75  2060.50    33972   \n",
       "2015-01-02 12:59:42.176  2060.50  2062.00  2057.75  2061.00    33985   \n",
       "2015-01-02 14:19:33.847  2061.00  2064.25  2058.75  2063.75    33958   \n",
       "\n",
       "                          cum_dollar  cum_ticks  \n",
       "date_time                                        \n",
       "2015-01-01 23:00:23.723  70001096.75       8478  \n",
       "2015-01-02 07:07:35.156  70010061.25      14514  \n",
       "2015-01-02 09:35:57.204  70087834.25      16152  \n",
       "2015-01-02 12:59:42.176  70006169.75      15502  \n",
       "2015-01-02 14:19:33.847  70000723.25      12332  "
      ]
     },
     "execution_count": 48,
     "metadata": {},
     "output_type": "execute_result"
    }
   ],
   "source": [
    "# Read in data\n",
    "data = pd.read_csv('../Sample-Data/dollar_bars.csv')\n",
    "data.index = pd.to_datetime(data['date_time'])\n",
    "data = data.drop('date_time', axis=1)\n",
    "data.head()"
   ]
  },
  {
   "cell_type": "code",
   "execution_count": 49,
   "id": "db45c4e3",
   "metadata": {},
   "outputs": [],
   "source": [
    "# Get the close prices\n",
    "data_series = data['close'].to_frame()"
   ]
  },
  {
   "cell_type": "code",
   "execution_count": 50,
   "id": "84bbc86e",
   "metadata": {},
   "outputs": [],
   "source": [
    "# Form the cumulative sum of the log prices\n",
    "log_prices = np.log(data_series).cumsum()"
   ]
  },
  {
   "cell_type": "markdown",
   "id": "10037109",
   "metadata": {},
   "source": [
    "## 5.5.b Apply FFD, with tau = 1e-5. Determine for what d in [0, 2] the series is stationary"
   ]
  },
  {
   "cell_type": "code",
   "execution_count": 51,
   "id": "fc66c8b5",
   "metadata": {},
   "outputs": [],
   "source": [
    "d = 1.999999979\n",
    "fd_series = fracdiff.frac_diff_ffd(log_prices, diff_amt=d, thresh=1e-5)"
   ]
  },
  {
   "cell_type": "code",
   "execution_count": 52,
   "id": "efafe324",
   "metadata": {},
   "outputs": [
    {
     "data": {
      "text/plain": [
       "7.656261442749589e-11"
      ]
     },
     "execution_count": 52,
     "metadata": {},
     "output_type": "execute_result"
    }
   ],
   "source": [
    "p_val(fd_series['close'].dropna())"
   ]
  },
  {
   "cell_type": "code",
   "execution_count": 53,
   "id": "d0eed6c7",
   "metadata": {},
   "outputs": [
    {
     "data": {
      "image/png": "[encoded data removed]",
      "text/plain": [
       "<Figure size 720x576 with 2 Axes>"
      ]
     },
     "metadata": {
      "needs_background": "light"
     },
     "output_type": "display_data"
    }
   ],
   "source": [
    "# Using plot_min_ffd function implemented in MlFinLab\n",
    "fracdiff.plot_min_ffd(data_series);"
   ]
  },
  {
   "cell_type": "markdown",
   "id": "59440507",
   "metadata": {},
   "source": [
    "## 5.5.c Compute the correlation of fracdiff series to the original (untransformed) series"
   ]
  },
  {
   "cell_type": "code",
   "execution_count": 54,
   "id": "3c8ed9ce",
   "metadata": {},
   "outputs": [
    {
     "data": {
      "text/html": [
       "<div>\n",
       "<style scoped>\n",
       "    .dataframe tbody tr th:only-of-type {\n",
       "        vertical-align: middle;\n",
       "    }\n",
       "\n",
       "    .dataframe tbody tr th {\n",
       "        vertical-align: top;\n",
       "    }\n",
       "\n",
       "    .dataframe thead th {\n",
       "        text-align: right;\n",
       "    }\n",
       "</style>\n",
       "<table border=\"1\" class=\"dataframe\">\n",
       "  <thead>\n",
       "    <tr style=\"text-align: right;\">\n",
       "      <th></th>\n",
       "      <th>cumsum</th>\n",
       "      <th>fdseries</th>\n",
       "      <th>original</th>\n",
       "    </tr>\n",
       "  </thead>\n",
       "  <tbody>\n",
       "    <tr>\n",
       "      <th>cumsum</th>\n",
       "      <td>1.000000</td>\n",
       "      <td>-0.376159</td>\n",
       "      <td>0.406330</td>\n",
       "    </tr>\n",
       "    <tr>\n",
       "      <th>fdseries</th>\n",
       "      <td>-0.376159</td>\n",
       "      <td>1.000000</td>\n",
       "      <td>-0.138135</td>\n",
       "    </tr>\n",
       "    <tr>\n",
       "      <th>original</th>\n",
       "      <td>0.406330</td>\n",
       "      <td>-0.138135</td>\n",
       "      <td>1.000000</td>\n",
       "    </tr>\n",
       "  </tbody>\n",
       "</table>\n",
       "</div>"
      ],
      "text/plain": [
       "            cumsum  fdseries  original\n",
       "cumsum    1.000000 -0.376159  0.406330\n",
       "fdseries -0.376159  1.000000 -0.138135\n",
       "original  0.406330 -0.138135  1.000000"
      ]
     },
     "execution_count": 54,
     "metadata": {},
     "output_type": "execute_result"
    }
   ],
   "source": [
    "comb_df = log_prices.copy().rename(columns={'close':'cumsum'})\n",
    "comb_df = comb_df.join(fd_series.rename(columns={'close':'fdseries'})).dropna()\n",
    "comb_df = comb_df.join(data_series.rename(columns={'close':'original'})).dropna()\n",
    "comb_df.head()\n",
    "comb_df.corr()"
   ]
  },
  {
   "cell_type": "markdown",
   "id": "67136ff0",
   "metadata": {},
   "source": [
    "## 5.5.d Apply an Engle-Granger cointegration test on the original and the fracdiff series. "
   ]
  },
  {
   "cell_type": "code",
   "execution_count": 56,
   "id": "e5fc724b",
   "metadata": {},
   "outputs": [
    {
     "data": {
      "image/png": "[encoded data removed]",
      "text/plain": [
       "<Figure size 432x288 with 2 Axes>"
      ]
     },
     "metadata": {
      "needs_background": "light"
     },
     "output_type": "display_data"
    }
   ],
   "source": [
    "comb_df['original'].plot()\n",
    "ax = comb_df['fdseries'].plot(secondary_y=True, color='r')\n",
    "ax.set_ylabel('FD Series')\n",
    "plt.show()"
   ]
  },
  {
   "cell_type": "code",
   "execution_count": 57,
   "id": "1da96c1a",
   "metadata": {},
   "outputs": [],
   "source": [
    "cl_prices = comb_df['original'].ravel()\n",
    "fd_prices = comb_df['fdseries'].ravel()"
   ]
  },
  {
   "cell_type": "code",
   "execution_count": 60,
   "id": "fc70ab24",
   "metadata": {},
   "outputs": [],
   "source": [
    "res = coint(cl_prices, fd_prices, autolag='AIC')"
   ]
  },
  {
   "cell_type": "code",
   "execution_count": 61,
   "id": "6106ac73",
   "metadata": {},
   "outputs": [
    {
     "name": "stdout",
     "output_type": "stream",
     "text": [
      "P-value: 0.437113\n"
     ]
    }
   ],
   "source": [
    "print('P-value: {:.6f}'.format(res[1]))"
   ]
  },
  {
   "cell_type": "markdown",
   "id": "0300d11f",
   "metadata": {},
   "source": [
    "*The p-value is below the critical value of 0.05, so we can reject the NULL that there is no cointegration.*\n",
    "Junwei Note: how come 0.43 is below 0.05???"
   ]
  },
  {
   "cell_type": "markdown",
   "id": "3542746d",
   "metadata": {},
   "source": [
    "## 5.5.e Apply a Jarque-Bera normality test on the fracdiff series"
   ]
  },
  {
   "cell_type": "code",
   "execution_count": 62,
   "id": "02c4b4b2",
   "metadata": {},
   "outputs": [
    {
     "name": "stdout",
     "output_type": "stream",
     "text": [
      "P-value: 0.000000\n"
     ]
    }
   ],
   "source": [
    "jb_test = jarque_bera(fd_prices)\n",
    "print('P-value: {:.6f}'.format(jb_test[1]))"
   ]
  },
  {
   "cell_type": "markdown",
   "id": "57b36d9d",
   "metadata": {},
   "source": [
    "*The p-value is below 0.05 critical value, so we can reject the NULL hypothesis \n",
    "that data has skewness and kurtosis matching normal distribution.  This shows that \n",
    "the underlying distribution of fd_prices is not Gaussian.*"
   ]
  },
  {
   "cell_type": "markdown",
   "id": "5950a2fb",
   "metadata": {},
   "source": [
    "# 5.6 Take the the fracDiff series from 5.5 \n",
    "\n",
    "## 5.6.a Apply a CUSUM filter (Chapter 2), where h is twice the standard deviation of the series"
   ]
  },
  {
   "cell_type": "code",
   "execution_count": 64,
   "id": "3e1eb93d",
   "metadata": {},
   "outputs": [
    {
     "data": {
      "text/html": [
       "<div>\n",
       "<style scoped>\n",
       "    .dataframe tbody tr th:only-of-type {\n",
       "        vertical-align: middle;\n",
       "    }\n",
       "\n",
       "    .dataframe tbody tr th {\n",
       "        vertical-align: top;\n",
       "    }\n",
       "\n",
       "    .dataframe thead th {\n",
       "        text-align: right;\n",
       "    }\n",
       "</style>\n",
       "<table border=\"1\" class=\"dataframe\">\n",
       "  <thead>\n",
       "    <tr style=\"text-align: right;\">\n",
       "      <th></th>\n",
       "      <th>close</th>\n",
       "    </tr>\n",
       "    <tr>\n",
       "      <th>date_time</th>\n",
       "      <th></th>\n",
       "    </tr>\n",
       "  </thead>\n",
       "  <tbody>\n",
       "    <tr>\n",
       "      <th>2015-01-01 23:00:23.723</th>\n",
       "      <td>NaN</td>\n",
       "    </tr>\n",
       "    <tr>\n",
       "      <th>2015-01-02 07:07:35.156</th>\n",
       "      <td>NaN</td>\n",
       "    </tr>\n",
       "    <tr>\n",
       "      <th>2015-01-02 09:35:57.204</th>\n",
       "      <td>-0.001697</td>\n",
       "    </tr>\n",
       "    <tr>\n",
       "      <th>2015-01-02 12:59:42.176</th>\n",
       "      <td>0.000243</td>\n",
       "    </tr>\n",
       "    <tr>\n",
       "      <th>2015-01-02 14:19:33.847</th>\n",
       "      <td>0.001333</td>\n",
       "    </tr>\n",
       "  </tbody>\n",
       "</table>\n",
       "</div>"
      ],
      "text/plain": [
       "                            close\n",
       "date_time                        \n",
       "2015-01-01 23:00:23.723       NaN\n",
       "2015-01-02 07:07:35.156       NaN\n",
       "2015-01-02 09:35:57.204 -0.001697\n",
       "2015-01-02 12:59:42.176  0.000243\n",
       "2015-01-02 14:19:33.847  0.001333"
      ]
     },
     "execution_count": 64,
     "metadata": {},
     "output_type": "execute_result"
    }
   ],
   "source": [
    "# We repeat the steps of 5.5 to get the fracDiff series\n",
    "\n",
    "# Read in data\n",
    "data = pd.read_csv('../Sample-Data/dollar_bars.csv')\n",
    "data.index = pd.to_datetime(data['date_time'])\n",
    "data = data.drop('date_time', axis=1)\n",
    "\n",
    "# Get the close prices\n",
    "data_series = data['close'].to_frame()\n",
    "\n",
    "# Form the cumulative sum of the log prices\n",
    "log_prices = np.log(data_series).cumsum()\n",
    "\n",
    "# Compute the fracDiff_FFD\n",
    "d = 2.0\n",
    "fd_series = fracdiff.frac_diff_ffd(log_prices, diff_amt=d, thresh=1e-5)\n",
    "fd_series.head()"
   ]
  },
  {
   "cell_type": "code",
   "execution_count": 65,
   "id": "22946c38",
   "metadata": {},
   "outputs": [
    {
     "name": "stdout",
     "output_type": "stream",
     "text": [
      "Volatility: 0.0014\n"
     ]
    }
   ],
   "source": [
    "# Compute volatility\n",
    "vol = fd_series.std()\n",
    "print('Volatility: {:0.4f}'.format(vol[0]))"
   ]
  },
  {
   "cell_type": "code",
   "execution_count": 66,
   "id": "d60e9bee",
   "metadata": {},
   "outputs": [
    {
     "data": {
      "text/plain": [
       "DatetimeIndex(['2015-01-02 14:19:33.847000', '2015-01-02 14:33:39.311000',\n",
       "               '2015-01-02 14:42:28.315000', '2015-01-02 15:57:26.907000',\n",
       "               '2015-01-02 16:30:52.544000', '2015-01-02 17:11:07.124000',\n",
       "               '2015-01-02 19:08:52.976000', '2015-01-02 19:29:46.490000',\n",
       "               '2015-01-02 19:48:25.876000', '2015-01-02 20:47:02.488000',\n",
       "               ...\n",
       "               '2016-12-29 21:13:14.022000', '2016-12-30 04:04:24.654000',\n",
       "               '2016-12-30 10:05:16.607000', '2016-12-30 13:51:30.230000',\n",
       "               '2016-12-30 16:28:16.806000', '2016-12-30 16:53:48.389000',\n",
       "               '2016-12-30 20:57:19.151000', '2016-12-30 20:58:34.724000',\n",
       "               '2016-12-30 20:59:16.663000', '2016-12-30 20:59:34.157000'],\n",
       "              dtype='datetime64[ns]', length=6438, freq=None)"
      ]
     },
     "execution_count": 66,
     "metadata": {},
     "output_type": "execute_result"
    }
   ],
   "source": [
    "# apply cusum filter\n",
    "cusum_events = filters.cusum_filter(fd_series.dropna(), threshold=vol[0]*2.)\n",
    "cusum_events"
   ]
  },
  {
   "cell_type": "code",
   "execution_count": 67,
   "id": "3e68abdc",
   "metadata": {},
   "outputs": [],
   "source": [
    "## 5.6.b Use the filtered timestamps to sample a features' matrix. Use as one of the features the fracDiff value."
   ]
  },
  {
   "cell_type": "code",
   "execution_count": 68,
   "id": "6232d165",
   "metadata": {},
   "outputs": [],
   "source": [
    "def relative_strength_index(df, n):\n",
    "    \"\"\"\n",
    "    Calculate Relative Strength Index(RSI) for given data.\n",
    "    https://github.com/Crypto-toolbox/pandas-technical-indicators/blob/master/technical_indicators.py\n",
    "\n",
    "    :param df: (pd.DataFrame) Input DataFrame.\n",
    "    :param n: (int) Bumber of periods to use.\n",
    "    :return: (pd.DataFrame) Resulting RSI.\n",
    "    \"\"\"\n",
    "\n",
    "    i = 0\n",
    "    UpI = [0]\n",
    "    DoI = [0]\n",
    "\n",
    "    while i + 1 <= df.index[-1]:\n",
    "        UpMove = df.loc[i + 1, 'high'] - df.loc[i, 'high']\n",
    "        DoMove = df.loc[i, 'low'] - df.loc[i + 1, 'low']\n",
    "        if UpMove > DoMove and UpMove > 0:\n",
    "            UpD = UpMove\n",
    "        else:\n",
    "            UpD = 0\n",
    "        UpI.append(UpD)\n",
    "        if DoMove > UpMove and DoMove > 0:\n",
    "            DoD = DoMove\n",
    "        else:\n",
    "            DoD = 0\n",
    "        DoI.append(DoD)\n",
    "        i = i + 1\n",
    "\n",
    "    UpI = pd.Series(UpI)\n",
    "    DoI = pd.Series(DoI)\n",
    "    PosDI = pd.Series(UpI.ewm(span=n, min_periods=n).mean())\n",
    "    NegDI = pd.Series(DoI.ewm(span=n, min_periods=n).mean())\n",
    "    RSI = pd.Series(round(PosDI * 100. / (PosDI + NegDI)), name='RSI_' + str(n))\n",
    "\n",
    "    return RSI"
   ]
  },
  {
   "cell_type": "code",
   "execution_count": 69,
   "id": "524cb4cf",
   "metadata": {},
   "outputs": [],
   "source": [
    "# Compute RSI\n",
    "def get_rsi(data, window=14):\n",
    "    \"\"\"\n",
    "    Wrapper around the relative_strength_index function.\n",
    "    \"\"\"\n",
    "\n",
    "    df = data.copy(deep=True).reset_index()\n",
    "    rsi = relative_strength_index(df, window)\n",
    "    rsi_df = pd.Series(data=rsi.values, index=data.index)\n",
    "\n",
    "    return rsi_df"
   ]
  },
  {
   "cell_type": "code",
   "execution_count": 70,
   "id": "5ee85535",
   "metadata": {},
   "outputs": [],
   "source": [
    "rsi_df = get_rsi(data, window=14)"
   ]
  },
  {
   "cell_type": "code",
   "execution_count": 71,
   "id": "b37fd0c4",
   "metadata": {},
   "outputs": [
    {
     "data": {
      "text/html": [
       "<div>\n",
       "<style scoped>\n",
       "    .dataframe tbody tr th:only-of-type {\n",
       "        vertical-align: middle;\n",
       "    }\n",
       "\n",
       "    .dataframe tbody tr th {\n",
       "        vertical-align: top;\n",
       "    }\n",
       "\n",
       "    .dataframe thead th {\n",
       "        text-align: right;\n",
       "    }\n",
       "</style>\n",
       "<table border=\"1\" class=\"dataframe\">\n",
       "  <thead>\n",
       "    <tr style=\"text-align: right;\">\n",
       "      <th></th>\n",
       "      <th>open</th>\n",
       "      <th>high</th>\n",
       "      <th>low</th>\n",
       "      <th>close</th>\n",
       "      <th>cum_vol</th>\n",
       "      <th>cum_dollar</th>\n",
       "      <th>cum_ticks</th>\n",
       "    </tr>\n",
       "    <tr>\n",
       "      <th>date_time</th>\n",
       "      <th></th>\n",
       "      <th></th>\n",
       "      <th></th>\n",
       "      <th></th>\n",
       "      <th></th>\n",
       "      <th></th>\n",
       "      <th></th>\n",
       "    </tr>\n",
       "  </thead>\n",
       "  <tbody>\n",
       "    <tr>\n",
       "      <th>2015-01-01 23:00:23.723</th>\n",
       "      <td>2053.00</td>\n",
       "      <td>2056.75</td>\n",
       "      <td>2051.00</td>\n",
       "      <td>2056.75</td>\n",
       "      <td>34102</td>\n",
       "      <td>70001096.75</td>\n",
       "      <td>8478</td>\n",
       "    </tr>\n",
       "    <tr>\n",
       "      <th>2015-01-02 07:07:35.156</th>\n",
       "      <td>2056.75</td>\n",
       "      <td>2067.25</td>\n",
       "      <td>2056.25</td>\n",
       "      <td>2064.00</td>\n",
       "      <td>33968</td>\n",
       "      <td>70010061.25</td>\n",
       "      <td>14514</td>\n",
       "    </tr>\n",
       "    <tr>\n",
       "      <th>2015-01-02 09:35:57.204</th>\n",
       "      <td>2064.00</td>\n",
       "      <td>2067.25</td>\n",
       "      <td>2058.75</td>\n",
       "      <td>2060.50</td>\n",
       "      <td>33972</td>\n",
       "      <td>70087834.25</td>\n",
       "      <td>16152</td>\n",
       "    </tr>\n",
       "    <tr>\n",
       "      <th>2015-01-02 12:59:42.176</th>\n",
       "      <td>2060.50</td>\n",
       "      <td>2062.00</td>\n",
       "      <td>2057.75</td>\n",
       "      <td>2061.00</td>\n",
       "      <td>33985</td>\n",
       "      <td>70006169.75</td>\n",
       "      <td>15502</td>\n",
       "    </tr>\n",
       "    <tr>\n",
       "      <th>2015-01-02 14:19:33.847</th>\n",
       "      <td>2061.00</td>\n",
       "      <td>2064.25</td>\n",
       "      <td>2058.75</td>\n",
       "      <td>2063.75</td>\n",
       "      <td>33958</td>\n",
       "      <td>70000723.25</td>\n",
       "      <td>12332</td>\n",
       "    </tr>\n",
       "  </tbody>\n",
       "</table>\n",
       "</div>"
      ],
      "text/plain": [
       "                            open     high      low    close  cum_vol  \\\n",
       "date_time                                                              \n",
       "2015-01-01 23:00:23.723  2053.00  2056.75  2051.00  2056.75    34102   \n",
       "2015-01-02 07:07:35.156  2056.75  2067.25  2056.25  2064.00    33968   \n",
       "2015-01-02 09:35:57.204  2064.00  2067.25  2058.75  2060.50    33972   \n",
       "2015-01-02 12:59:42.176  2060.50  2062.00  2057.75  2061.00    33985   \n",
       "2015-01-02 14:19:33.847  2061.00  2064.25  2058.75  2063.75    33958   \n",
       "\n",
       "                          cum_dollar  cum_ticks  \n",
       "date_time                                        \n",
       "2015-01-01 23:00:23.723  70001096.75       8478  \n",
       "2015-01-02 07:07:35.156  70010061.25      14514  \n",
       "2015-01-02 09:35:57.204  70087834.25      16152  \n",
       "2015-01-02 12:59:42.176  70006169.75      15502  \n",
       "2015-01-02 14:19:33.847  70000723.25      12332  "
      ]
     },
     "execution_count": 71,
     "metadata": {},
     "output_type": "execute_result"
    }
   ],
   "source": [
    "rsi_df.head(20)\n",
    "data.head()"
   ]
  },
  {
   "cell_type": "code",
   "execution_count": 72,
   "id": "b38a6574",
   "metadata": {},
   "outputs": [
    {
     "data": {
      "text/html": [
       "<div>\n",
       "<style scoped>\n",
       "    .dataframe tbody tr th:only-of-type {\n",
       "        vertical-align: middle;\n",
       "    }\n",
       "\n",
       "    .dataframe tbody tr th {\n",
       "        vertical-align: top;\n",
       "    }\n",
       "\n",
       "    .dataframe thead th {\n",
       "        text-align: right;\n",
       "    }\n",
       "</style>\n",
       "<table border=\"1\" class=\"dataframe\">\n",
       "  <thead>\n",
       "    <tr style=\"text-align: right;\">\n",
       "      <th></th>\n",
       "      <th>dollar_bars</th>\n",
       "      <th>frac_diff</th>\n",
       "      <th>rsi</th>\n",
       "    </tr>\n",
       "    <tr>\n",
       "      <th>date_time</th>\n",
       "      <th></th>\n",
       "      <th></th>\n",
       "      <th></th>\n",
       "    </tr>\n",
       "  </thead>\n",
       "  <tbody>\n",
       "    <tr>\n",
       "      <th>2015-01-02 15:57:26.907</th>\n",
       "      <td>2050.50</td>\n",
       "      <td>0.001098</td>\n",
       "      <td>31.0</td>\n",
       "    </tr>\n",
       "    <tr>\n",
       "      <th>2015-01-02 16:30:52.544</th>\n",
       "      <td>2048.00</td>\n",
       "      <td>0.002322</td>\n",
       "      <td>35.0</td>\n",
       "    </tr>\n",
       "    <tr>\n",
       "      <th>2015-01-02 17:11:07.124</th>\n",
       "      <td>2050.50</td>\n",
       "      <td>0.001953</td>\n",
       "      <td>52.0</td>\n",
       "    </tr>\n",
       "    <tr>\n",
       "      <th>2015-01-02 19:08:52.976</th>\n",
       "      <td>2046.50</td>\n",
       "      <td>0.001956</td>\n",
       "      <td>44.0</td>\n",
       "    </tr>\n",
       "    <tr>\n",
       "      <th>2015-01-02 19:29:46.490</th>\n",
       "      <td>2046.75</td>\n",
       "      <td>0.000122</td>\n",
       "      <td>53.0</td>\n",
       "    </tr>\n",
       "  </tbody>\n",
       "</table>\n",
       "</div>"
      ],
      "text/plain": [
       "                         dollar_bars  frac_diff   rsi\n",
       "date_time                                            \n",
       "2015-01-02 15:57:26.907      2050.50   0.001098  31.0\n",
       "2015-01-02 16:30:52.544      2048.00   0.002322  35.0\n",
       "2015-01-02 17:11:07.124      2050.50   0.001953  52.0\n",
       "2015-01-02 19:08:52.976      2046.50   0.001956  44.0\n",
       "2015-01-02 19:29:46.490      2046.75   0.000122  53.0"
      ]
     },
     "execution_count": 72,
     "metadata": {},
     "output_type": "execute_result"
    }
   ],
   "source": [
    "dol_bars_feature = data['close'].loc[cusum_events]\n",
    "frac_diff_feature = fd_series.loc[cusum_events]\n",
    "rsi_feature = rsi_df[cusum_events]\n",
    "\n",
    "features_mat = (pd.DataFrame()\n",
    "                .assign(dollar_bars=dol_bars_feature,\n",
    "                        frac_diff=frac_diff_feature,\n",
    "                        rsi=rsi_feature)\n",
    "                .drop_duplicates().dropna())\n",
    "\n",
    "features_mat.head()"
   ]
  },
  {
   "cell_type": "markdown",
   "id": "89333731",
   "metadata": {},
   "source": [
    "## 5.6.c Form labels using the triple-barrier method, with symmetric horizontal barriers of twice the daily standard deviation, and a vertical barrier of 5 days"
   ]
  },
  {
   "cell_type": "code",
   "execution_count": 73,
   "id": "0ff59d54",
   "metadata": {},
   "outputs": [],
   "source": [
    "# Compute daily volatility\n",
    "daily_vol = volatility.get_daily_vol(features_mat.dollar_bars)\n",
    "\n",
    "# Compute vertical barriers\n",
    "# t1 = snp.addVerticalBarrier(tEvents, ftMtx.dbars, numDays=5)\n",
    "vertical_barriers = labeling.add_vertical_barrier(t_events=cusum_events, close=features_mat.dollar_bars, num_days=5)"
   ]
  },
  {
   "cell_type": "code",
   "execution_count": 74,
   "id": "3c6d554e",
   "metadata": {},
   "outputs": [
    {
     "name": "stderr",
     "output_type": "stream",
     "text": [
      "2021-12-05 19:15:12.938210 50.0% apply_pt_sl_on_t1 done after 0.32 minutes. Remaining 0.32 minutes.\r",
      "2021-12-05 19:15:13.015287 100.0% apply_pt_sl_on_t1 done after 0.33 minutes. Remaining 0.0 minutes.\n"
     ]
    }
   ],
   "source": [
    "# Triple barrier\n",
    "pt_sl = [2, 2]\n",
    "min_ret = 0.0005\n",
    "triple_barrier_events = labeling.get_events(close=features_mat.dollar_bars,\n",
    "                                  t_events=cusum_events,\n",
    "                                  pt_sl=pt_sl,\n",
    "                                  target=daily_vol,\n",
    "                                  min_ret=min_ret,\n",
    "                                  num_threads=2,\n",
    "                                  vertical_barrier_times=vertical_barriers)\n"
   ]
  },
  {
   "cell_type": "code",
   "execution_count": 75,
   "id": "44c45fdc",
   "metadata": {},
   "outputs": [
    {
     "data": {
      "text/html": [
       "<div>\n",
       "<style scoped>\n",
       "    .dataframe tbody tr th:only-of-type {\n",
       "        vertical-align: middle;\n",
       "    }\n",
       "\n",
       "    .dataframe tbody tr th {\n",
       "        vertical-align: top;\n",
       "    }\n",
       "\n",
       "    .dataframe thead th {\n",
       "        text-align: right;\n",
       "    }\n",
       "</style>\n",
       "<table border=\"1\" class=\"dataframe\">\n",
       "  <thead>\n",
       "    <tr style=\"text-align: right;\">\n",
       "      <th></th>\n",
       "      <th>t1</th>\n",
       "      <th>trgt</th>\n",
       "      <th>pt</th>\n",
       "      <th>sl</th>\n",
       "    </tr>\n",
       "  </thead>\n",
       "  <tbody>\n",
       "    <tr>\n",
       "      <th>2015-01-05 14:30:57.874</th>\n",
       "      <td>2015-01-05 16:49:40.508</td>\n",
       "      <td>0.001893</td>\n",
       "      <td>2</td>\n",
       "      <td>2</td>\n",
       "    </tr>\n",
       "    <tr>\n",
       "      <th>2015-01-05 16:49:40.508</th>\n",
       "      <td>2015-01-06 16:59:34.232</td>\n",
       "      <td>0.005317</td>\n",
       "      <td>2</td>\n",
       "      <td>2</td>\n",
       "    </tr>\n",
       "    <tr>\n",
       "      <th>2015-01-05 20:12:36.935</th>\n",
       "      <td>2015-01-08 14:54:32.974</td>\n",
       "      <td>0.006831</td>\n",
       "      <td>2</td>\n",
       "      <td>2</td>\n",
       "    </tr>\n",
       "    <tr>\n",
       "      <th>2015-01-05 20:24:35.205</th>\n",
       "      <td>2015-01-08 14:54:32.974</td>\n",
       "      <td>0.006781</td>\n",
       "      <td>2</td>\n",
       "      <td>2</td>\n",
       "    </tr>\n",
       "    <tr>\n",
       "      <th>2015-01-05 20:50:29.765</th>\n",
       "      <td>2015-01-08 14:54:32.974</td>\n",
       "      <td>0.006455</td>\n",
       "      <td>2</td>\n",
       "      <td>2</td>\n",
       "    </tr>\n",
       "    <tr>\n",
       "      <th>...</th>\n",
       "      <td>...</td>\n",
       "      <td>...</td>\n",
       "      <td>...</td>\n",
       "      <td>...</td>\n",
       "    </tr>\n",
       "    <tr>\n",
       "      <th>2016-12-30 16:53:48.389</th>\n",
       "      <td>NaT</td>\n",
       "      <td>0.004534</td>\n",
       "      <td>2</td>\n",
       "      <td>2</td>\n",
       "    </tr>\n",
       "    <tr>\n",
       "      <th>2016-12-30 20:57:19.151</th>\n",
       "      <td>NaT</td>\n",
       "      <td>0.004527</td>\n",
       "      <td>2</td>\n",
       "      <td>2</td>\n",
       "    </tr>\n",
       "    <tr>\n",
       "      <th>2016-12-30 20:58:34.724</th>\n",
       "      <td>NaT</td>\n",
       "      <td>0.004507</td>\n",
       "      <td>2</td>\n",
       "      <td>2</td>\n",
       "    </tr>\n",
       "    <tr>\n",
       "      <th>2016-12-30 20:59:16.663</th>\n",
       "      <td>NaT</td>\n",
       "      <td>0.004481</td>\n",
       "      <td>2</td>\n",
       "      <td>2</td>\n",
       "    </tr>\n",
       "    <tr>\n",
       "      <th>2016-12-30 20:59:34.157</th>\n",
       "      <td>NaT</td>\n",
       "      <td>0.004451</td>\n",
       "      <td>2</td>\n",
       "      <td>2</td>\n",
       "    </tr>\n",
       "  </tbody>\n",
       "</table>\n",
       "<p>6413 rows × 4 columns</p>\n",
       "</div>"
      ],
      "text/plain": [
       "                                             t1      trgt  pt  sl\n",
       "2015-01-05 14:30:57.874 2015-01-05 16:49:40.508  0.001893   2   2\n",
       "2015-01-05 16:49:40.508 2015-01-06 16:59:34.232  0.005317   2   2\n",
       "2015-01-05 20:12:36.935 2015-01-08 14:54:32.974  0.006831   2   2\n",
       "2015-01-05 20:24:35.205 2015-01-08 14:54:32.974  0.006781   2   2\n",
       "2015-01-05 20:50:29.765 2015-01-08 14:54:32.974  0.006455   2   2\n",
       "...                                         ...       ...  ..  ..\n",
       "2016-12-30 16:53:48.389                     NaT  0.004534   2   2\n",
       "2016-12-30 20:57:19.151                     NaT  0.004527   2   2\n",
       "2016-12-30 20:58:34.724                     NaT  0.004507   2   2\n",
       "2016-12-30 20:59:16.663                     NaT  0.004481   2   2\n",
       "2016-12-30 20:59:34.157                     NaT  0.004451   2   2\n",
       "\n",
       "[6413 rows x 4 columns]"
      ]
     },
     "execution_count": 75,
     "metadata": {},
     "output_type": "execute_result"
    }
   ],
   "source": [
    "triple_barrier_events"
   ]
  },
  {
   "cell_type": "code",
   "execution_count": 76,
   "id": "9eec5ade",
   "metadata": {},
   "outputs": [
    {
     "data": {
      "text/plain": [
       " 0    3531\n",
       "-1    1503\n",
       " 1    1360\n",
       "Name: bin, dtype: int64"
      ]
     },
     "execution_count": 76,
     "metadata": {},
     "output_type": "execute_result"
    }
   ],
   "source": [
    "# create labels\n",
    "labels = labeling.get_bins(triple_barrier_events, features_mat.dollar_bars)\n",
    "clean_labels = labeling.drop_labels(labels)\n",
    "clean_labels.bin.value_counts()"
   ]
  },
  {
   "cell_type": "code",
   "execution_count": 77,
   "id": "5d888937",
   "metadata": {},
   "outputs": [
    {
     "data": {
      "text/html": [
       "<div>\n",
       "<style scoped>\n",
       "    .dataframe tbody tr th:only-of-type {\n",
       "        vertical-align: middle;\n",
       "    }\n",
       "\n",
       "    .dataframe tbody tr th {\n",
       "        vertical-align: top;\n",
       "    }\n",
       "\n",
       "    .dataframe thead th {\n",
       "        text-align: right;\n",
       "    }\n",
       "</style>\n",
       "<table border=\"1\" class=\"dataframe\">\n",
       "  <thead>\n",
       "    <tr style=\"text-align: right;\">\n",
       "      <th></th>\n",
       "      <th>ret</th>\n",
       "      <th>trgt</th>\n",
       "      <th>bin</th>\n",
       "    </tr>\n",
       "  </thead>\n",
       "  <tbody>\n",
       "    <tr>\n",
       "      <th>2015-01-05 14:30:57.874</th>\n",
       "      <td>-0.007601</td>\n",
       "      <td>0.001893</td>\n",
       "      <td>-1</td>\n",
       "    </tr>\n",
       "    <tr>\n",
       "      <th>2015-01-05 16:49:40.508</th>\n",
       "      <td>-0.013465</td>\n",
       "      <td>0.005317</td>\n",
       "      <td>-1</td>\n",
       "    </tr>\n",
       "    <tr>\n",
       "      <th>2015-01-05 20:12:36.935</th>\n",
       "      <td>0.014397</td>\n",
       "      <td>0.006831</td>\n",
       "      <td>1</td>\n",
       "    </tr>\n",
       "    <tr>\n",
       "      <th>2015-01-05 20:24:35.205</th>\n",
       "      <td>0.014020</td>\n",
       "      <td>0.006781</td>\n",
       "      <td>1</td>\n",
       "    </tr>\n",
       "    <tr>\n",
       "      <th>2015-01-05 20:50:29.765</th>\n",
       "      <td>0.013643</td>\n",
       "      <td>0.006455</td>\n",
       "      <td>1</td>\n",
       "    </tr>\n",
       "  </tbody>\n",
       "</table>\n",
       "</div>"
      ],
      "text/plain": [
       "                              ret      trgt  bin\n",
       "2015-01-05 14:30:57.874 -0.007601  0.001893   -1\n",
       "2015-01-05 16:49:40.508 -0.013465  0.005317   -1\n",
       "2015-01-05 20:12:36.935  0.014397  0.006831    1\n",
       "2015-01-05 20:24:35.205  0.014020  0.006781    1\n",
       "2015-01-05 20:50:29.765  0.013643  0.006455    1"
      ]
     },
     "execution_count": 77,
     "metadata": {},
     "output_type": "execute_result"
    }
   ],
   "source": [
    "clean_labels.head()"
   ]
  },
  {
   "cell_type": "markdown",
   "id": "b2bf1cf2",
   "metadata": {},
   "source": [
    "## References\n",
    "\n",
    "- Advances in Financial Machine Learning, Marcos Lopez De Prado, pg 75."
   ]
  },
  {
   "cell_type": "code",
   "execution_count": null,
   "id": "e7b094c6",
   "metadata": {},
   "outputs": [],
   "source": []
  }
 ],
 "metadata": {
  "kernelspec": {
   "display_name": "Python 3 (ipykernel)",
   "language": "python",
   "name": "python3"
  },
  "language_info": {
   "codemirror_mode": {
    "name": "ipython",
    "version": 3
   },
   "file_extension": ".py",
   "mimetype": "text/x-python",
   "name": "python",
   "nbconvert_exporter": "python",
   "pygments_lexer": "ipython3",
   "version": "3.8.12"
  }
 },
 "nbformat": 4,
 "nbformat_minor": 5
}
