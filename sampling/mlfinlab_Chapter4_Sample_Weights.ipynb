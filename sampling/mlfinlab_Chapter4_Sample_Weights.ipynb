{
 "cells": [
  {
   "cell_type": "code",
   "execution_count": 1,
   "id": "4aa260b3",
   "metadata": {},
   "outputs": [],
   "source": [
    "# Import packages\n",
    "import numpy as np\n",
    "import pandas as pd\n",
    "import seaborn as sns\n",
    "import matplotlib.pyplot as plt\n",
    "\n",
    "from sklearn.utils import resample, shuffle\n",
    "from sklearn.ensemble import RandomForestClassifier\n",
    "from sklearn.model_selection import GridSearchCV, KFold, train_test_split, cross_val_score\n",
    "from sklearn.metrics import roc_curve, classification_report, confusion_matrix, accuracy_score\n",
    "from statsmodels.graphics.tsaplots import plot_acf, plot_pacf"
   ]
  },
  {
   "cell_type": "code",
   "execution_count": 2,
   "id": "c554482d",
   "metadata": {},
   "outputs": [],
   "source": [
    "# Import MlFinLab tools\n",
    "from mlfinlab.filters import filters\n",
    "from mlfinlab.labeling import labeling\n",
    "from mlfinlab.sampling import concurrent, bootstrapping\n",
    "from mlfinlab.util import multiprocess, volatility"
   ]
  },
  {
   "cell_type": "markdown",
   "id": "e868e92b",
   "metadata": {},
   "source": [
    "## 4.1 In Chapter 3. we denoted as t1 a pandas series of timestamps where the first barrier was touched, and the index was the timestamp of the observation. This was the output of the getEvents."
   ]
  },
  {
   "cell_type": "markdown",
   "id": "8ac35fad",
   "metadata": {},
   "source": [
    "### 4.1 (a) Compute a t1 series on dollar bars derived from e-mini S&P 500 futures tick data"
   ]
  },
  {
   "cell_type": "code",
   "execution_count": 3,
   "id": "82cbe9da",
   "metadata": {},
   "outputs": [],
   "source": [
    "# Read in data\n",
    "# data = pd.read_csv('official_data/dollar_bars.csv', nrows=40000)\n",
    "data = pd.read_csv('../Sample-Data/dollar_bars.csv')\n",
    "\n",
    "data.index = pd.to_datetime(data['date_time'])\n",
    "data = data.drop('date_time', axis=1)\n",
    "close_prices = data['close']"
   ]
  },
  {
   "cell_type": "code",
   "execution_count": 7,
   "id": "ad100059",
   "metadata": {},
   "outputs": [
    {
     "name": "stdout",
     "output_type": "stream",
     "text": [
      "date_time\n",
      "2015-01-01 23:00:23.723    2056.75\n",
      "2015-01-02 07:07:35.156    2064.00\n",
      "2015-01-02 09:35:57.204    2060.50\n",
      "2015-01-02 12:59:42.176    2061.00\n",
      "2015-01-02 14:19:33.847    2063.75\n",
      "Name: close, dtype: float64\n",
      "count    24079.000000\n",
      "mean      2061.126864\n",
      "std         88.690949\n",
      "min       1805.750000\n",
      "25%       2013.750000\n",
      "50%       2073.250000\n",
      "75%       2114.250000\n",
      "max       2272.000000\n",
      "Name: close, dtype: float64\n",
      "\n",
      "No of NANs: 0\n"
     ]
    }
   ],
   "source": [
    "print(close_prices.head())\n",
    "print(close_prices.describe())\n",
    "print('\\nNo of NANs: {:}'.format(close_prices.isna().sum()))"
   ]
  },
  {
   "cell_type": "code",
   "execution_count": 8,
   "id": "9a1ff7ec",
   "metadata": {},
   "outputs": [],
   "source": [
    "# Compute daily volatility\n",
    "vol = volatility.get_daily_vol(close=close_prices, lookback=50)"
   ]
  },
  {
   "cell_type": "code",
   "execution_count": 9,
   "id": "cc126704",
   "metadata": {},
   "outputs": [
    {
     "data": {
      "text/plain": [
       "date_time\n",
       "2015-01-04 23:20:12.567         NaN\n",
       "2015-01-05 03:37:42.912    0.001036\n",
       "2015-01-05 08:21:37.801    0.001010\n",
       "2015-01-05 10:27:41.882    0.000817\n",
       "2015-01-05 12:42:45.989    0.000701\n",
       "                             ...   \n",
       "2016-12-30 20:59:58.848    0.002397\n",
       "2016-12-30 21:00:00.352    0.002350\n",
       "2016-12-30 21:00:24.294    0.002304\n",
       "2016-12-30 21:03:03.027    0.002261\n",
       "2016-12-30 21:13:31.990    0.002228\n",
       "Name: close, Length: 24039, dtype: float64"
      ]
     },
     "execution_count": 9,
     "metadata": {},
     "output_type": "execute_result"
    }
   ],
   "source": [
    "vol"
   ]
  },
  {
   "cell_type": "code",
   "execution_count": 10,
   "id": "68e5d7ea",
   "metadata": {},
   "outputs": [],
   "source": [
    "# Apply Symmetric CUSUM Filter and get timestamps for events\n",
    "# Note: Only the CUSUM filter needs a point estimate for volatility\n",
    "cusum_events = filters.cusum_filter(close_prices, threshold=vol.mean())"
   ]
  },
  {
   "cell_type": "code",
   "execution_count": 11,
   "id": "4329a1f3",
   "metadata": {},
   "outputs": [
    {
     "data": {
      "text/plain": [
       "DatetimeIndex(['2015-01-02 15:39:14.826000', '2015-01-02 20:47:02.488000',\n",
       "               '2015-01-04 23:20:12.567000', '2015-01-05 14:49:36.175000',\n",
       "               '2015-01-05 16:10:05.172000', '2015-01-05 19:53:07.211000',\n",
       "               '2015-01-06 15:22:16.841000', '2015-01-06 15:57:59.243000',\n",
       "               '2015-01-06 16:35:18.127000', '2015-01-06 18:20:27.201000',\n",
       "               ...\n",
       "               '2016-12-14 20:58:28.022000', '2016-12-15 14:59:27.415000',\n",
       "               '2016-12-16 16:22:41.095000', '2016-12-19 16:05:39.052000',\n",
       "               '2016-12-22 14:36:05.103000', '2016-12-27 14:35:26.243000',\n",
       "               '2016-12-28 15:01:29.826000', '2016-12-28 20:41:52.086000',\n",
       "               '2016-12-30 15:29:57.978000', '2016-12-30 19:55:31.030000'],\n",
       "              dtype='datetime64[ns]', length=1524, freq=None)"
      ]
     },
     "execution_count": 11,
     "metadata": {},
     "output_type": "execute_result"
    }
   ],
   "source": [
    "cusum_events"
   ]
  },
  {
   "cell_type": "code",
   "execution_count": 12,
   "id": "08b39643",
   "metadata": {},
   "outputs": [
    {
     "data": {
      "text/plain": [
       "2015-01-02 15:39:14.826   2015-01-04 23:20:12.567\n",
       "2015-01-02 20:47:02.488   2015-01-04 23:20:12.567\n",
       "2015-01-04 23:20:12.567   2015-01-06 02:16:54.528\n",
       "2015-01-05 14:49:36.175   2015-01-06 14:52:04.655\n",
       "2015-01-05 16:10:05.172   2015-01-06 16:11:27.929\n",
       "Name: date_time, dtype: datetime64[ns]"
      ]
     },
     "execution_count": 12,
     "metadata": {},
     "output_type": "execute_result"
    }
   ],
   "source": [
    "# Compute vertical barrier\n",
    "vertical_barriers = labeling.add_vertical_barrier(cusum_events, close_prices, num_days=1)\n",
    "vertical_barriers.head()"
   ]
  },
  {
   "cell_type": "code",
   "execution_count": 13,
   "id": "1faac581",
   "metadata": {},
   "outputs": [],
   "source": [
    "triple_barrier_events = labeling.get_events(close=close_prices,\n",
    "                                            t_events=cusum_events,\n",
    "                                            pt_sl=[1, 1],\n",
    "                                            target=vol,\n",
    "                                            min_ret=0.01,\n",
    "                                            num_threads=1,\n",
    "                                            vertical_barrier_times=vertical_barriers,\n",
    "                                            side_prediction=None)"
   ]
  },
  {
   "cell_type": "code",
   "execution_count": 14,
   "id": "ae89fa04",
   "metadata": {},
   "outputs": [
    {
     "data": {
      "text/html": [
       "<div>\n",
       "<style scoped>\n",
       "    .dataframe tbody tr th:only-of-type {\n",
       "        vertical-align: middle;\n",
       "    }\n",
       "\n",
       "    .dataframe tbody tr th {\n",
       "        vertical-align: top;\n",
       "    }\n",
       "\n",
       "    .dataframe thead th {\n",
       "        text-align: right;\n",
       "    }\n",
       "</style>\n",
       "<table border=\"1\" class=\"dataframe\">\n",
       "  <thead>\n",
       "    <tr style=\"text-align: right;\">\n",
       "      <th></th>\n",
       "      <th>t1</th>\n",
       "      <th>trgt</th>\n",
       "      <th>pt</th>\n",
       "      <th>sl</th>\n",
       "    </tr>\n",
       "  </thead>\n",
       "  <tbody>\n",
       "    <tr>\n",
       "      <th>2015-01-09 17:13:19.851</th>\n",
       "      <td>2015-01-11 23:31:19.054</td>\n",
       "      <td>0.010065</td>\n",
       "      <td>1</td>\n",
       "      <td>1</td>\n",
       "    </tr>\n",
       "    <tr>\n",
       "      <th>2015-01-15 13:45:55.324</th>\n",
       "      <td>2015-01-15 14:57:17.741</td>\n",
       "      <td>0.010148</td>\n",
       "      <td>1</td>\n",
       "      <td>1</td>\n",
       "    </tr>\n",
       "    <tr>\n",
       "      <th>2015-01-15 14:39:34.621</th>\n",
       "      <td>2015-01-16 00:15:15.421</td>\n",
       "      <td>0.010703</td>\n",
       "      <td>1</td>\n",
       "      <td>1</td>\n",
       "    </tr>\n",
       "    <tr>\n",
       "      <th>2015-01-30 10:09:09.112</th>\n",
       "      <td>2015-02-01 23:26:29.558</td>\n",
       "      <td>0.011492</td>\n",
       "      <td>1</td>\n",
       "      <td>1</td>\n",
       "    </tr>\n",
       "    <tr>\n",
       "      <th>2015-01-30 14:48:27.262</th>\n",
       "      <td>2015-01-30 20:54:46.692</td>\n",
       "      <td>0.010769</td>\n",
       "      <td>1</td>\n",
       "      <td>1</td>\n",
       "    </tr>\n",
       "  </tbody>\n",
       "</table>\n",
       "</div>"
      ],
      "text/plain": [
       "                                             t1      trgt  pt  sl\n",
       "2015-01-09 17:13:19.851 2015-01-11 23:31:19.054  0.010065   1   1\n",
       "2015-01-15 13:45:55.324 2015-01-15 14:57:17.741  0.010148   1   1\n",
       "2015-01-15 14:39:34.621 2015-01-16 00:15:15.421  0.010703   1   1\n",
       "2015-01-30 10:09:09.112 2015-02-01 23:26:29.558  0.011492   1   1\n",
       "2015-01-30 14:48:27.262 2015-01-30 20:54:46.692  0.010769   1   1"
      ]
     },
     "execution_count": 14,
     "metadata": {},
     "output_type": "execute_result"
    }
   ],
   "source": [
    "triple_barrier_events.head()"
   ]
  },
  {
   "cell_type": "markdown",
   "id": "d3c5ff7d",
   "metadata": {},
   "source": [
    "### 4.1 (b) Apply the function mpNumCoEvents to compute the number of overlapping outcomes at each point in time"
   ]
  },
  {
   "cell_type": "code",
   "execution_count": 15,
   "id": "264e49ee",
   "metadata": {},
   "outputs": [],
   "source": [
    "num_threads = 1\n",
    "num_conc_events = multiprocess.mp_pandas_obj(concurrent.num_concurrent_events,\n",
    "                                             ('molecule', triple_barrier_events.index), num_threads, \n",
    "                                            close_series_index=close_prices.index,\n",
    "                                             label_endtime=triple_barrier_events['t1'])"
   ]
  },
  {
   "cell_type": "code",
   "execution_count": 16,
   "id": "016a3086",
   "metadata": {},
   "outputs": [
    {
     "data": {
      "text/plain": [
       "24079"
      ]
     },
     "execution_count": 16,
     "metadata": {},
     "output_type": "execute_result"
    }
   ],
   "source": [
    "# Eliminate the duplicates\n",
    "num_conc_events = num_conc_events.loc[~num_conc_events.index.duplicated(keep='last')]\n",
    "\n",
    "# Reindex based on the close prices\n",
    "num_conc_events = num_conc_events.reindex(close_prices.index).fillna(0)\n",
    "len(num_conc_events)"
   ]
  },
  {
   "cell_type": "markdown",
   "id": "288edf0d",
   "metadata": {},
   "source": [
    "### 4.1 (c) Plot the time-series of the number of concurrent labels on the primary axis, and the time series of exponentially weighted moving standard deviation of returns on the secondary axis "
   ]
  },
  {
   "cell_type": "code",
   "execution_count": 17,
   "id": "e5a4266b",
   "metadata": {},
   "outputs": [],
   "source": [
    "display_df = (pd.DataFrame().assign(vol=vol,\n",
    "                                    num_conc_events=num_conc_events)\n",
    "                            .drop_duplicates()\n",
    "                            .dropna())"
   ]
  },
  {
   "cell_type": "code",
   "execution_count": 18,
   "id": "1cee47d6",
   "metadata": {},
   "outputs": [
    {
     "data": {
      "image/png": "[encoded data removed]",
      "text/plain": [
       "<Figure size 720x576 with 2 Axes>"
      ]
     },
     "metadata": {
      "needs_background": "light"
     },
     "output_type": "display_data"
    }
   ],
   "source": [
    "# display_df.plot()\n",
    "display_df[['vol', 'num_conc_events']].plot(secondary_y='vol', figsize=(10,8))\n",
    "plt.show()"
   ]
  },
  {
   "cell_type": "markdown",
   "id": "fe01d307",
   "metadata": {},
   "source": [
    "### 4.1 (d) Produce a scatterplot of the number of concurrent labels (x-axis) and the exponentially weighted moving standard deviation of returns (y-axis). Can you appreciate the relationship?"
   ]
  },
  {
   "cell_type": "code",
   "execution_count": 19,
   "id": "bf0af259",
   "metadata": {},
   "outputs": [
    {
     "data": {
      "image/png": "[encoded data removed]",
      "text/plain": [
       "<Figure size 720x576 with 1 Axes>"
      ]
     },
     "metadata": {
      "needs_background": "light"
     },
     "output_type": "display_data"
    }
   ],
   "source": [
    "display_df.plot.scatter(x='num_conc_events', y='vol', figsize=(10, 8))\n",
    "plt.show()"
   ]
  },
  {
   "cell_type": "code",
   "execution_count": 20,
   "id": "4c8f35fb",
   "metadata": {},
   "outputs": [
    {
     "data": {
      "image/png": "[encoded data removed]",
      "text/plain": [
       "<Figure size 432x288 with 1 Axes>"
      ]
     },
     "metadata": {
      "needs_background": "light"
     },
     "output_type": "display_data"
    }
   ],
   "source": [
    "sns.regplot(x=display_df['num_conc_events'], y=display_df['vol'], color='r')\n",
    "plt.show()"
   ]
  },
  {
   "cell_type": "code",
   "execution_count": 21,
   "id": "a763ad81",
   "metadata": {},
   "outputs": [],
   "source": [
    "# Try polyfit\n",
    "x = display_df['num_conc_events']\n",
    "y = display_df['vol']\n",
    "z = np.polyfit(x, y, 2)\n",
    "p = np.poly1d(z)"
   ]
  },
  {
   "cell_type": "code",
   "execution_count": 22,
   "id": "32cd875d",
   "metadata": {},
   "outputs": [
    {
     "data": {
      "image/png": "[encoded data removed]",
      "text/plain": [
       "<Figure size 432x288 with 1 Axes>"
      ]
     },
     "metadata": {
      "needs_background": "light"
     },
     "output_type": "display_data"
    }
   ],
   "source": [
    "xp = np.linspace(0, max(x)+1, 100)\n",
    "_ = plt.plot(x, y, '.', xp, p(xp), '-')"
   ]
  },
  {
   "cell_type": "markdown",
   "id": "d6e728b9",
   "metadata": {},
   "source": [
    "## 4.2 Using thefunction mpSampleTW, compute the average uniqueness of each label. What is the first-order serial correlation, AR(1), of this time series? Is it statistically significant? Why? "
   ]
  },
  {
   "cell_type": "code",
   "execution_count": 23,
   "id": "c1fd3ee4",
   "metadata": {},
   "outputs": [],
   "source": [
    "out = multiprocess.mp_pandas_obj(concurrent._get_average_uniqueness, ('molecule', triple_barrier_events.index), num_threads, \n",
    "                                 label_endtime=triple_barrier_events['t1'], num_conc_events=num_conc_events)"
   ]
  },
  {
   "cell_type": "code",
   "execution_count": 24,
   "id": "ac2d6bf8",
   "metadata": {},
   "outputs": [
    {
     "data": {
      "image/png": "[encoded data removed]",
      "text/plain": [
       "<Figure size 432x288 with 1 Axes>"
      ]
     },
     "metadata": {
      "needs_background": "light"
     },
     "output_type": "display_data"
    }
   ],
   "source": [
    "# ACF plot\n",
    "pd.plotting.autocorrelation_plot(out);"
   ]
  },
  {
   "cell_type": "code",
   "execution_count": 25,
   "id": "2bc1c564",
   "metadata": {},
   "outputs": [
    {
     "data": {
      "image/png": "[encoded data removed]",
      "text/plain": [
       "<Figure size 720x576 with 2 Axes>"
      ]
     },
     "metadata": {
      "needs_background": "light"
     },
     "output_type": "display_data"
    }
   ],
   "source": [
    "plt.figure(figsize=(10, 8))\n",
    "plt.subplot(211)\n",
    "plot_acf(out, ax=plt.gca(), lags=5)\n",
    "plt.subplot(212)\n",
    "plot_pacf(out, ax=plt.gca(), lags=5)\n",
    "plt.show()"
   ]
  },
  {
   "cell_type": "markdown",
   "id": "4b9d81d8",
   "metadata": {},
   "source": [
    "*The ACF chart shows the auocorrelation of average uniqueness of labels. The fact that the series is statistically significant at lags 1 and 2 indicate that uniqueness persists over time.  4.1.(c) shows that number of concurrent events are mostly zero except when volatility spikes. When the number of concurrent events is zero, then uniqueness is high. This means that we can expect autocorrelation at some level. Here it is at lags 1 and 2.*"
   ]
  },
  {
   "cell_type": "markdown",
   "id": "6395ae9c",
   "metadata": {},
   "source": [
    "## 4.3 Fit a random forest to a financial data set where the average uniqueness is de minimis   "
   ]
  },
  {
   "cell_type": "code",
   "execution_count": 26,
   "id": "e5045a11",
   "metadata": {},
   "outputs": [],
   "source": [
    "# Read in data\n",
    "\n",
    "data = pd.read_csv('../Sample-Data/dollar_bars.csv')\n",
    "\n",
    "data.index = pd.to_datetime(data['date_time'])\n",
    "data = data.drop('date_time', axis=1)\n",
    "data = data.loc['2015-02-03':'2015-08-31']\n",
    "close_prices = data['close']"
   ]
  },
  {
   "cell_type": "markdown",
   "id": "b0236951",
   "metadata": {},
   "source": [
    "### 4.3 (a) What is the mean out-of-bag accuracy?"
   ]
  },
  {
   "cell_type": "markdown",
   "id": "ea832283",
   "metadata": {},
   "source": [
    "##### Define RSI "
   ]
  },
  {
   "cell_type": "code",
   "execution_count": 27,
   "id": "1519ce09",
   "metadata": {},
   "outputs": [],
   "source": [
    "# Compute RSI\n",
    "def relative_strength_index(df, n):\n",
    "        \"\"\"\n",
    "        Calculate Relative Strength Index(RSI) for given data.\n",
    "        https://github.com/Crypto-toolbox/pandas-technical-indicators/blob/master/technical_indicators.py\n",
    "        \n",
    "        :param df: (pd.DataFrame) Frame of data to use.\n",
    "        :param n: (int) RST to use.\n",
    "        :return: (pd.DataFrame) Resulting RSI.\n",
    "        \"\"\"\n",
    "\n",
    "        i = 0\n",
    "        UpI = [0]\n",
    "        DoI = [0]\n",
    "\n",
    "        while i + 1 <= df.index[-1]:\n",
    "            UpMove = df.loc[i + 1, 'high'] - df.loc[i, 'high']\n",
    "            DoMove = df.loc[i, 'low'] - df.loc[i + 1, 'low']\n",
    "            if UpMove > DoMove and UpMove > 0:\n",
    "                UpD = UpMove\n",
    "            else:\n",
    "                UpD = 0\n",
    "            UpI.append(UpD)\n",
    "            if DoMove > UpMove and DoMove > 0:\n",
    "                DoD = DoMove\n",
    "            else:\n",
    "                DoD = 0\n",
    "            DoI.append(DoD)\n",
    "            i = i + 1\n",
    "\n",
    "        UpI = pd.Series(UpI)\n",
    "        DoI = pd.Series(DoI)\n",
    "        PosDI = pd.Series(UpI.ewm(span=n, min_periods=n).mean())\n",
    "        NegDI = pd.Series(DoI.ewm(span=n, min_periods=n).mean())\n",
    "        RSI = pd.Series(round(PosDI * 100. / (PosDI + NegDI)), name='RSI_' + str(n))\n",
    "        # df = df.join(RSI)\n",
    "\n",
    "        return RSI\n",
    "\n",
    "def get_rsi(data, window=14):\n",
    "    \"\"\"\n",
    "    Wrapper around the relative_strength_index function.\n",
    "    \"\"\"\n",
    "    \n",
    "    df = data.copy(deep=True).reset_index()\n",
    "    rsi = relative_strength_index(df, window)\n",
    "    rsi_df = pd.Series(data=rsi.values, index=data.index)\n",
    "\n",
    "    return rsi_df"
   ]
  },
  {
   "cell_type": "markdown",
   "id": "6415938e",
   "metadata": {},
   "source": [
    "##### define Bollinger bands"
   ]
  },
  {
   "cell_type": "code",
   "execution_count": 28,
   "id": "a5de8225",
   "metadata": {},
   "outputs": [],
   "source": [
    "def bbands(close_prices, window, no_of_stdev):\n",
    "    \"\"\"\n",
    "    Apply Bollinger Bands to the series.\n",
    "    \"\"\"\n",
    "    \n",
    "    rolling_mean = close_prices.ewm(span=window).mean()\n",
    "    rolling_std = close_prices.ewm(span=window).std()\n",
    "\n",
    "    upper_band = rolling_mean + (rolling_std * no_of_stdev)\n",
    "    lower_band = rolling_mean - (rolling_std * no_of_stdev)\n",
    "\n",
    "    return rolling_mean, upper_band, lower_band"
   ]
  },
  {
   "cell_type": "code",
   "execution_count": 29,
   "id": "5e6ef97c",
   "metadata": {},
   "outputs": [
    {
     "data": {
      "text/html": [
       "<div>\n",
       "<style scoped>\n",
       "    .dataframe tbody tr th:only-of-type {\n",
       "        vertical-align: middle;\n",
       "    }\n",
       "\n",
       "    .dataframe tbody tr th {\n",
       "        vertical-align: top;\n",
       "    }\n",
       "\n",
       "    .dataframe thead th {\n",
       "        text-align: right;\n",
       "    }\n",
       "</style>\n",
       "<table border=\"1\" class=\"dataframe\">\n",
       "  <thead>\n",
       "    <tr style=\"text-align: right;\">\n",
       "      <th></th>\n",
       "      <th>open</th>\n",
       "      <th>high</th>\n",
       "      <th>low</th>\n",
       "      <th>close</th>\n",
       "      <th>cum_vol</th>\n",
       "      <th>cum_dollar</th>\n",
       "      <th>cum_ticks</th>\n",
       "      <th>avg</th>\n",
       "      <th>upper</th>\n",
       "      <th>lower</th>\n",
       "    </tr>\n",
       "    <tr>\n",
       "      <th>date_time</th>\n",
       "      <th></th>\n",
       "      <th></th>\n",
       "      <th></th>\n",
       "      <th></th>\n",
       "      <th></th>\n",
       "      <th></th>\n",
       "      <th></th>\n",
       "      <th></th>\n",
       "      <th></th>\n",
       "      <th></th>\n",
       "    </tr>\n",
       "  </thead>\n",
       "  <tbody>\n",
       "    <tr>\n",
       "      <th>2015-08-11 16:47:32.944</th>\n",
       "      <td>2078.00</td>\n",
       "      <td>2079.00</td>\n",
       "      <td>2075.75</td>\n",
       "      <td>2076.50</td>\n",
       "      <td>33789</td>\n",
       "      <td>70198557.00</td>\n",
       "      <td>2915</td>\n",
       "      <td>2083.716377</td>\n",
       "      <td>2095.832046</td>\n",
       "      <td>2071.600708</td>\n",
       "    </tr>\n",
       "    <tr>\n",
       "      <th>2015-07-06 15:12:49.759</th>\n",
       "      <td>2065.75</td>\n",
       "      <td>2066.25</td>\n",
       "      <td>2062.75</td>\n",
       "      <td>2062.75</td>\n",
       "      <td>33905</td>\n",
       "      <td>70001247.25</td>\n",
       "      <td>3341</td>\n",
       "      <td>2061.460471</td>\n",
       "      <td>2073.001464</td>\n",
       "      <td>2049.919478</td>\n",
       "    </tr>\n",
       "    <tr>\n",
       "      <th>2015-05-18 18:41:34.658</th>\n",
       "      <td>2126.50</td>\n",
       "      <td>2127.00</td>\n",
       "      <td>2125.25</td>\n",
       "      <td>2126.50</td>\n",
       "      <td>33094</td>\n",
       "      <td>70358913.25</td>\n",
       "      <td>3392</td>\n",
       "      <td>2118.179096</td>\n",
       "      <td>2127.235961</td>\n",
       "      <td>2109.122230</td>\n",
       "    </tr>\n",
       "    <tr>\n",
       "      <th>2015-02-13 18:24:12.312</th>\n",
       "      <td>2088.00</td>\n",
       "      <td>2089.50</td>\n",
       "      <td>2087.25</td>\n",
       "      <td>2087.50</td>\n",
       "      <td>33523</td>\n",
       "      <td>70006255.00</td>\n",
       "      <td>11132</td>\n",
       "      <td>2083.787886</td>\n",
       "      <td>2096.354768</td>\n",
       "      <td>2071.221003</td>\n",
       "    </tr>\n",
       "    <tr>\n",
       "      <th>2015-08-24 03:02:39.153</th>\n",
       "      <td>1930.50</td>\n",
       "      <td>1934.50</td>\n",
       "      <td>1923.25</td>\n",
       "      <td>1932.00</td>\n",
       "      <td>36330</td>\n",
       "      <td>70118139.50</td>\n",
       "      <td>8111</td>\n",
       "      <td>1973.700787</td>\n",
       "      <td>2004.381109</td>\n",
       "      <td>1943.020465</td>\n",
       "    </tr>\n",
       "    <tr>\n",
       "      <th>2015-04-09 13:58:49.464</th>\n",
       "      <td>2074.25</td>\n",
       "      <td>2075.00</td>\n",
       "      <td>2072.50</td>\n",
       "      <td>2074.75</td>\n",
       "      <td>33753</td>\n",
       "      <td>70006021.50</td>\n",
       "      <td>4098</td>\n",
       "      <td>2073.815741</td>\n",
       "      <td>2080.252834</td>\n",
       "      <td>2067.378648</td>\n",
       "    </tr>\n",
       "    <tr>\n",
       "      <th>2015-05-27 15:53:59.313</th>\n",
       "      <td>2116.50</td>\n",
       "      <td>2117.75</td>\n",
       "      <td>2116.00</td>\n",
       "      <td>2117.25</td>\n",
       "      <td>33258</td>\n",
       "      <td>70405884.50</td>\n",
       "      <td>3390</td>\n",
       "      <td>2109.411701</td>\n",
       "      <td>2120.273678</td>\n",
       "      <td>2098.549723</td>\n",
       "    </tr>\n",
       "    <tr>\n",
       "      <th>2015-05-04 18:38:21.707</th>\n",
       "      <td>2110.50</td>\n",
       "      <td>2112.00</td>\n",
       "      <td>2109.25</td>\n",
       "      <td>2111.50</td>\n",
       "      <td>33166</td>\n",
       "      <td>70013906.75</td>\n",
       "      <td>4081</td>\n",
       "      <td>2103.202770</td>\n",
       "      <td>2118.858957</td>\n",
       "      <td>2087.546583</td>\n",
       "    </tr>\n",
       "    <tr>\n",
       "      <th>2015-08-13 20:07:20.029</th>\n",
       "      <td>2080.00</td>\n",
       "      <td>2081.25</td>\n",
       "      <td>2079.75</td>\n",
       "      <td>2080.25</td>\n",
       "      <td>33813</td>\n",
       "      <td>70347921.75</td>\n",
       "      <td>2181</td>\n",
       "      <td>2079.759561</td>\n",
       "      <td>2090.932748</td>\n",
       "      <td>2068.586374</td>\n",
       "    </tr>\n",
       "    <tr>\n",
       "      <th>2015-04-23 19:59:48.373</th>\n",
       "      <td>2107.25</td>\n",
       "      <td>2107.50</td>\n",
       "      <td>2106.75</td>\n",
       "      <td>2107.00</td>\n",
       "      <td>33236</td>\n",
       "      <td>70035675.00</td>\n",
       "      <td>2160</td>\n",
       "      <td>2103.763253</td>\n",
       "      <td>2114.772033</td>\n",
       "      <td>2092.754472</td>\n",
       "    </tr>\n",
       "  </tbody>\n",
       "</table>\n",
       "</div>"
      ],
      "text/plain": [
       "                            open     high      low    close  cum_vol  \\\n",
       "date_time                                                              \n",
       "2015-08-11 16:47:32.944  2078.00  2079.00  2075.75  2076.50    33789   \n",
       "2015-07-06 15:12:49.759  2065.75  2066.25  2062.75  2062.75    33905   \n",
       "2015-05-18 18:41:34.658  2126.50  2127.00  2125.25  2126.50    33094   \n",
       "2015-02-13 18:24:12.312  2088.00  2089.50  2087.25  2087.50    33523   \n",
       "2015-08-24 03:02:39.153  1930.50  1934.50  1923.25  1932.00    36330   \n",
       "2015-04-09 13:58:49.464  2074.25  2075.00  2072.50  2074.75    33753   \n",
       "2015-05-27 15:53:59.313  2116.50  2117.75  2116.00  2117.25    33258   \n",
       "2015-05-04 18:38:21.707  2110.50  2112.00  2109.25  2111.50    33166   \n",
       "2015-08-13 20:07:20.029  2080.00  2081.25  2079.75  2080.25    33813   \n",
       "2015-04-23 19:59:48.373  2107.25  2107.50  2106.75  2107.00    33236   \n",
       "\n",
       "                          cum_dollar  cum_ticks          avg        upper  \\\n",
       "date_time                                                                   \n",
       "2015-08-11 16:47:32.944  70198557.00       2915  2083.716377  2095.832046   \n",
       "2015-07-06 15:12:49.759  70001247.25       3341  2061.460471  2073.001464   \n",
       "2015-05-18 18:41:34.658  70358913.25       3392  2118.179096  2127.235961   \n",
       "2015-02-13 18:24:12.312  70006255.00      11132  2083.787886  2096.354768   \n",
       "2015-08-24 03:02:39.153  70118139.50       8111  1973.700787  2004.381109   \n",
       "2015-04-09 13:58:49.464  70006021.50       4098  2073.815741  2080.252834   \n",
       "2015-05-27 15:53:59.313  70405884.50       3390  2109.411701  2120.273678   \n",
       "2015-05-04 18:38:21.707  70013906.75       4081  2103.202770  2118.858957   \n",
       "2015-08-13 20:07:20.029  70347921.75       2181  2079.759561  2090.932748   \n",
       "2015-04-23 19:59:48.373  70035675.00       2160  2103.763253  2114.772033   \n",
       "\n",
       "                               lower  \n",
       "date_time                             \n",
       "2015-08-11 16:47:32.944  2071.600708  \n",
       "2015-07-06 15:12:49.759  2049.919478  \n",
       "2015-05-18 18:41:34.658  2109.122230  \n",
       "2015-02-13 18:24:12.312  2071.221003  \n",
       "2015-08-24 03:02:39.153  1943.020465  \n",
       "2015-04-09 13:58:49.464  2067.378648  \n",
       "2015-05-27 15:53:59.313  2098.549723  \n",
       "2015-05-04 18:38:21.707  2087.546583  \n",
       "2015-08-13 20:07:20.029  2068.586374  \n",
       "2015-04-23 19:59:48.373  2092.754472  "
      ]
     },
     "execution_count": 29,
     "metadata": {},
     "output_type": "execute_result"
    }
   ],
   "source": [
    "# Compute bands\n",
    "window = 50\n",
    "data['avg'], data['upper'], data['lower'] = bbands(data['close'], window, no_of_stdev=1.5)\n",
    "data.sample(10)"
   ]
  },
  {
   "cell_type": "code",
   "execution_count": 30,
   "id": "294c066e",
   "metadata": {},
   "outputs": [],
   "source": [
    "# Compute RSI\n",
    "rsi_df = get_rsi(data, window=14)\n",
    "data['rsi'] = pd.Series(data=rsi_df.values, index=data.index)\n",
    "\n",
    "# Drop the NaN values from our data set\n",
    "data.dropna(axis=0, how='any', inplace=True)"
   ]
  },
  {
   "cell_type": "code",
   "execution_count": 31,
   "id": "7cb4fb9b",
   "metadata": {},
   "outputs": [
    {
     "name": "stdout",
     "output_type": "stream",
     "text": [
      " 1.0    340\n",
      "-1.0    251\n",
      "Name: side, dtype: int64\n"
     ]
    }
   ],
   "source": [
    "# Compute sides\n",
    "data['side'] = np.nan \n",
    "\n",
    "long_signals = (data['close'] <= data['lower']) \n",
    "short_signals = (data['close'] >= data['upper']) \n",
    "\n",
    "data.loc[long_signals, 'side'] = 1\n",
    "data.loc[short_signals, 'side'] = -1\n",
    "\n",
    "print(data.side.value_counts())\n",
    "\n",
    "# Remove Look ahead bias by lagging the signal\n",
    "data['side'] = data['side'].shift(1)"
   ]
  },
  {
   "cell_type": "code",
   "execution_count": 32,
   "id": "9ae37284",
   "metadata": {},
   "outputs": [
    {
     "name": "stdout",
     "output_type": "stream",
     "text": [
      " 1.0    339\n",
      "-1.0    251\n",
      "Name: side, dtype: int64\n"
     ]
    }
   ],
   "source": [
    "# Save the raw data\n",
    "raw_data = data.copy()\n",
    "\n",
    "# Drop the NaN values from our data set\n",
    "data.dropna(axis=0, how='any', inplace=True)\n",
    "print(data.side.value_counts())"
   ]
  },
  {
   "cell_type": "code",
   "execution_count": 34,
   "id": "c8b1dd50",
   "metadata": {},
   "outputs": [],
   "source": [
    "# Compute daily volatility\n",
    "daily_vol = volatility.get_daily_vol(close=data['close'], lookback=50)\n",
    "\n",
    "# Apply Symmetric CUSUM Filter and get timestamps for events\n",
    "# Note: Only the CUSUM filter needs a point estimate for volatility\n",
    "cusum_events = filters.cusum_filter(data['close'], threshold=daily_vol['2011-09-01':'2018-01-01'].mean() * 0.1)\n",
    "\n",
    "# Compute vertical barrier\n",
    "vertical_barriers = labeling.add_vertical_barrier(t_events=cusum_events, close=data['close'], num_days=1)"
   ]
  },
  {
   "cell_type": "code",
   "execution_count": 35,
   "id": "b0dce545",
   "metadata": {},
   "outputs": [
    {
     "name": "stderr",
     "output_type": "stream",
     "text": [
      "2021-11-28 16:52:26.194266 50.0% apply_pt_sl_on_t1 done after 0.21 minutes. Remaining 0.21 minutes.\r",
      "2021-11-28 16:52:26.198755 100.0% apply_pt_sl_on_t1 done after 0.21 minutes. Remaining 0.0 minutes.\n"
     ]
    }
   ],
   "source": [
    "pt_sl = [0, 2]\n",
    "min_ret = 0.0005\n",
    "triple_barrier_events = labeling.get_events(close=data['close'],\n",
    "                                            t_events=cusum_events,\n",
    "                                            pt_sl=pt_sl,\n",
    "                                            target=daily_vol,\n",
    "                                            min_ret=min_ret,\n",
    "                                            num_threads=2,\n",
    "                                            vertical_barrier_times=vertical_barriers,\n",
    "                                            side_prediction=data['side'])"
   ]
  },
  {
   "cell_type": "code",
   "execution_count": 36,
   "id": "6d0c70c5",
   "metadata": {},
   "outputs": [
    {
     "name": "stdout",
     "output_type": "stream",
     "text": [
      "tW    0.247968\n",
      "dtype: float64\n"
     ]
    }
   ],
   "source": [
    "# Averge uniqueness\n",
    "avg_uniqueness = concurrent.get_av_uniqueness_from_triple_barrier(triple_barrier_events, close_prices, num_threads=1)\n",
    "print(avg_uniqueness.mean())"
   ]
  },
  {
   "cell_type": "code",
   "execution_count": 37,
   "id": "28f7904e",
   "metadata": {},
   "outputs": [
    {
     "data": {
      "text/plain": [
       " 1.0    208\n",
       "-1.0    125\n",
       "Name: side, dtype: int64"
      ]
     },
     "execution_count": 37,
     "metadata": {},
     "output_type": "execute_result"
    }
   ],
   "source": [
    "labels = labeling.get_bins(triple_barrier_events, data['close'])\n",
    "labels.side.value_counts()"
   ]
  },
  {
   "cell_type": "markdown",
   "id": "0b7027ea",
   "metadata": {},
   "source": [
    "### Features"
   ]
  },
  {
   "cell_type": "code",
   "execution_count": 38,
   "id": "3dc9e88f",
   "metadata": {},
   "outputs": [],
   "source": [
    "# Log Returns\n",
    "raw_data['log_ret'] = np.log(raw_data['close']).diff()\n",
    "\n",
    "# Momentum\n",
    "raw_data['mom1'] = raw_data['close'].pct_change(periods=1)\n",
    "raw_data['mom2'] = raw_data['close'].pct_change(periods=2)\n",
    "raw_data['mom3'] = raw_data['close'].pct_change(periods=3)\n",
    "raw_data['mom4'] = raw_data['close'].pct_change(periods=4)\n",
    "raw_data['mom5'] = raw_data['close'].pct_change(periods=5)\n",
    "\n",
    "# Volatility\n",
    "window_stdev = 50\n",
    "raw_data['volatility'] = raw_data['log_ret'].rolling(window=window_stdev, min_periods=window_stdev, center=False).std()\n",
    "\n",
    "# Serial Correlation (Takes about 4 minutes)\n",
    "window_autocorr = 50\n",
    "\n",
    "raw_data['autocorr_1'] = raw_data['log_ret'].rolling(window=window_autocorr, min_periods=window_autocorr, center=False).apply(lambda x: x.autocorr(lag=1), raw=False)\n",
    "raw_data['autocorr_2'] = raw_data['log_ret'].rolling(window=window_autocorr, min_periods=window_autocorr, center=False).apply(lambda x: x.autocorr(lag=2), raw=False)\n",
    "raw_data['autocorr_3'] = raw_data['log_ret'].rolling(window=window_autocorr, min_periods=window_autocorr, center=False).apply(lambda x: x.autocorr(lag=3), raw=False)\n",
    "raw_data['autocorr_4'] = raw_data['log_ret'].rolling(window=window_autocorr, min_periods=window_autocorr, center=False).apply(lambda x: x.autocorr(lag=4), raw=False)\n",
    "raw_data['autocorr_5'] = raw_data['log_ret'].rolling(window=window_autocorr, min_periods=window_autocorr, center=False).apply(lambda x: x.autocorr(lag=5), raw=False)\n",
    "\n",
    "# Get the various log -t returns\n",
    "raw_data['log_t1'] = raw_data['log_ret'].shift(1)\n",
    "raw_data['log_t2'] = raw_data['log_ret'].shift(2)\n",
    "raw_data['log_t3'] = raw_data['log_ret'].shift(3)\n",
    "raw_data['log_t4'] = raw_data['log_ret'].shift(4)\n",
    "raw_data['log_t5'] = raw_data['log_ret'].shift(5)\n",
    "\n",
    "# Add fast and slow moving averages\n",
    "fast_window = 7\n",
    "slow_window = 15\n",
    "\n",
    "raw_data['fast_mavg'] = raw_data['close'].rolling(window=fast_window, min_periods=fast_window, center=False).mean()\n",
    "raw_data['slow_mavg'] = raw_data['close'].rolling(window=slow_window, min_periods=slow_window, center=False).mean()\n"
   ]
  },
  {
   "cell_type": "code",
   "execution_count": 39,
   "id": "5255fdad",
   "metadata": {},
   "outputs": [],
   "source": [
    "# Add Trending signals\n",
    "raw_data['sma'] = np.nan\n",
    "\n",
    "long_signals = raw_data['fast_mavg'] >= raw_data['slow_mavg']\n",
    "short_signals = raw_data['fast_mavg'] < raw_data['slow_mavg']\n",
    "raw_data.loc[long_signals, 'sma'] = 1\n",
    "raw_data.loc[short_signals, 'sma'] = -1"
   ]
  },
  {
   "cell_type": "code",
   "execution_count": 40,
   "id": "9a3c25d1",
   "metadata": {},
   "outputs": [],
   "source": [
    "# Re compute sides\n",
    "raw_data['side'] = np.nan\n",
    "\n",
    "long_signals = raw_data['close'] <= raw_data['lower'] \n",
    "short_signals = raw_data['close'] >= raw_data['upper'] \n",
    "\n",
    "raw_data.loc[long_signals, 'side'] = 1\n",
    "raw_data.loc[short_signals, 'side'] = -1"
   ]
  },
  {
   "cell_type": "code",
   "execution_count": 41,
   "id": "c17f07d1",
   "metadata": {},
   "outputs": [
    {
     "data": {
      "text/html": [
       "<div>\n",
       "<style scoped>\n",
       "    .dataframe tbody tr th:only-of-type {\n",
       "        vertical-align: middle;\n",
       "    }\n",
       "\n",
       "    .dataframe tbody tr th {\n",
       "        vertical-align: top;\n",
       "    }\n",
       "\n",
       "    .dataframe thead th {\n",
       "        text-align: right;\n",
       "    }\n",
       "</style>\n",
       "<table border=\"1\" class=\"dataframe\">\n",
       "  <thead>\n",
       "    <tr style=\"text-align: right;\">\n",
       "      <th></th>\n",
       "      <th>open</th>\n",
       "      <th>high</th>\n",
       "      <th>low</th>\n",
       "      <th>close</th>\n",
       "      <th>cum_vol</th>\n",
       "      <th>cum_dollar</th>\n",
       "      <th>cum_ticks</th>\n",
       "      <th>avg</th>\n",
       "      <th>upper</th>\n",
       "      <th>lower</th>\n",
       "      <th>...</th>\n",
       "      <th>autocorr_4</th>\n",
       "      <th>autocorr_5</th>\n",
       "      <th>log_t1</th>\n",
       "      <th>log_t2</th>\n",
       "      <th>log_t3</th>\n",
       "      <th>log_t4</th>\n",
       "      <th>log_t5</th>\n",
       "      <th>fast_mavg</th>\n",
       "      <th>slow_mavg</th>\n",
       "      <th>sma</th>\n",
       "    </tr>\n",
       "    <tr>\n",
       "      <th>date_time</th>\n",
       "      <th></th>\n",
       "      <th></th>\n",
       "      <th></th>\n",
       "      <th></th>\n",
       "      <th></th>\n",
       "      <th></th>\n",
       "      <th></th>\n",
       "      <th></th>\n",
       "      <th></th>\n",
       "      <th></th>\n",
       "      <th></th>\n",
       "      <th></th>\n",
       "      <th></th>\n",
       "      <th></th>\n",
       "      <th></th>\n",
       "      <th></th>\n",
       "      <th></th>\n",
       "      <th></th>\n",
       "      <th></th>\n",
       "      <th></th>\n",
       "      <th></th>\n",
       "    </tr>\n",
       "  </thead>\n",
       "  <tbody>\n",
       "    <tr>\n",
       "      <th>2015-02-03 15:02:12.773</th>\n",
       "      <td>NaN</td>\n",
       "      <td>NaN</td>\n",
       "      <td>NaN</td>\n",
       "      <td>NaN</td>\n",
       "      <td>NaN</td>\n",
       "      <td>NaN</td>\n",
       "      <td>NaN</td>\n",
       "      <td>NaN</td>\n",
       "      <td>NaN</td>\n",
       "      <td>NaN</td>\n",
       "      <td>...</td>\n",
       "      <td>NaN</td>\n",
       "      <td>NaN</td>\n",
       "      <td>NaN</td>\n",
       "      <td>NaN</td>\n",
       "      <td>NaN</td>\n",
       "      <td>NaN</td>\n",
       "      <td>NaN</td>\n",
       "      <td>NaN</td>\n",
       "      <td>NaN</td>\n",
       "      <td>NaN</td>\n",
       "    </tr>\n",
       "    <tr>\n",
       "      <th>2015-02-03 15:07:20.968</th>\n",
       "      <td>2032.25</td>\n",
       "      <td>2034.50</td>\n",
       "      <td>2031.75</td>\n",
       "      <td>2032.25</td>\n",
       "      <td>34432.0</td>\n",
       "      <td>70002102.75</td>\n",
       "      <td>13165.0</td>\n",
       "      <td>2026.365845</td>\n",
       "      <td>2035.969525</td>\n",
       "      <td>2016.762165</td>\n",
       "      <td>...</td>\n",
       "      <td>NaN</td>\n",
       "      <td>NaN</td>\n",
       "      <td>NaN</td>\n",
       "      <td>NaN</td>\n",
       "      <td>NaN</td>\n",
       "      <td>NaN</td>\n",
       "      <td>NaN</td>\n",
       "      <td>NaN</td>\n",
       "      <td>NaN</td>\n",
       "      <td>NaN</td>\n",
       "    </tr>\n",
       "    <tr>\n",
       "      <th>2015-02-03 15:14:10.455</th>\n",
       "      <td>2032.25</td>\n",
       "      <td>2032.50</td>\n",
       "      <td>2030.00</td>\n",
       "      <td>2031.25</td>\n",
       "      <td>34466.0</td>\n",
       "      <td>70003717.00</td>\n",
       "      <td>10916.0</td>\n",
       "      <td>2026.790317</td>\n",
       "      <td>2036.190829</td>\n",
       "      <td>2017.389805</td>\n",
       "      <td>...</td>\n",
       "      <td>NaN</td>\n",
       "      <td>NaN</td>\n",
       "      <td>NaN</td>\n",
       "      <td>NaN</td>\n",
       "      <td>NaN</td>\n",
       "      <td>NaN</td>\n",
       "      <td>NaN</td>\n",
       "      <td>NaN</td>\n",
       "      <td>NaN</td>\n",
       "      <td>NaN</td>\n",
       "    </tr>\n",
       "    <tr>\n",
       "      <th>2015-02-03 15:21:15.748</th>\n",
       "      <td>2031.25</td>\n",
       "      <td>2031.50</td>\n",
       "      <td>2028.00</td>\n",
       "      <td>2029.50</td>\n",
       "      <td>34497.0</td>\n",
       "      <td>70012124.50</td>\n",
       "      <td>11723.0</td>\n",
       "      <td>2027.015090</td>\n",
       "      <td>2036.072304</td>\n",
       "      <td>2017.957877</td>\n",
       "      <td>...</td>\n",
       "      <td>NaN</td>\n",
       "      <td>NaN</td>\n",
       "      <td>-0.000492</td>\n",
       "      <td>NaN</td>\n",
       "      <td>NaN</td>\n",
       "      <td>NaN</td>\n",
       "      <td>NaN</td>\n",
       "      <td>NaN</td>\n",
       "      <td>NaN</td>\n",
       "      <td>NaN</td>\n",
       "    </tr>\n",
       "    <tr>\n",
       "      <th>2015-02-03 15:27:12.943</th>\n",
       "      <td>2029.50</td>\n",
       "      <td>2030.75</td>\n",
       "      <td>2027.50</td>\n",
       "      <td>2030.00</td>\n",
       "      <td>34501.0</td>\n",
       "      <td>70005857.25</td>\n",
       "      <td>11184.0</td>\n",
       "      <td>2027.252318</td>\n",
       "      <td>2036.015327</td>\n",
       "      <td>2018.489310</td>\n",
       "      <td>...</td>\n",
       "      <td>NaN</td>\n",
       "      <td>NaN</td>\n",
       "      <td>-0.000862</td>\n",
       "      <td>-0.000492</td>\n",
       "      <td>NaN</td>\n",
       "      <td>NaN</td>\n",
       "      <td>NaN</td>\n",
       "      <td>NaN</td>\n",
       "      <td>NaN</td>\n",
       "      <td>NaN</td>\n",
       "    </tr>\n",
       "  </tbody>\n",
       "</table>\n",
       "<p>5 rows × 32 columns</p>\n",
       "</div>"
      ],
      "text/plain": [
       "                            open     high      low    close  cum_vol  \\\n",
       "date_time                                                              \n",
       "2015-02-03 15:02:12.773      NaN      NaN      NaN      NaN      NaN   \n",
       "2015-02-03 15:07:20.968  2032.25  2034.50  2031.75  2032.25  34432.0   \n",
       "2015-02-03 15:14:10.455  2032.25  2032.50  2030.00  2031.25  34466.0   \n",
       "2015-02-03 15:21:15.748  2031.25  2031.50  2028.00  2029.50  34497.0   \n",
       "2015-02-03 15:27:12.943  2029.50  2030.75  2027.50  2030.00  34501.0   \n",
       "\n",
       "                          cum_dollar  cum_ticks          avg        upper  \\\n",
       "date_time                                                                   \n",
       "2015-02-03 15:02:12.773          NaN        NaN          NaN          NaN   \n",
       "2015-02-03 15:07:20.968  70002102.75    13165.0  2026.365845  2035.969525   \n",
       "2015-02-03 15:14:10.455  70003717.00    10916.0  2026.790317  2036.190829   \n",
       "2015-02-03 15:21:15.748  70012124.50    11723.0  2027.015090  2036.072304   \n",
       "2015-02-03 15:27:12.943  70005857.25    11184.0  2027.252318  2036.015327   \n",
       "\n",
       "                               lower  ...  autocorr_4  autocorr_5    log_t1  \\\n",
       "date_time                             ...                                     \n",
       "2015-02-03 15:02:12.773          NaN  ...         NaN         NaN       NaN   \n",
       "2015-02-03 15:07:20.968  2016.762165  ...         NaN         NaN       NaN   \n",
       "2015-02-03 15:14:10.455  2017.389805  ...         NaN         NaN       NaN   \n",
       "2015-02-03 15:21:15.748  2017.957877  ...         NaN         NaN -0.000492   \n",
       "2015-02-03 15:27:12.943  2018.489310  ...         NaN         NaN -0.000862   \n",
       "\n",
       "                           log_t2  log_t3  log_t4  log_t5  fast_mavg  \\\n",
       "date_time                                                              \n",
       "2015-02-03 15:02:12.773       NaN     NaN     NaN     NaN        NaN   \n",
       "2015-02-03 15:07:20.968       NaN     NaN     NaN     NaN        NaN   \n",
       "2015-02-03 15:14:10.455       NaN     NaN     NaN     NaN        NaN   \n",
       "2015-02-03 15:21:15.748       NaN     NaN     NaN     NaN        NaN   \n",
       "2015-02-03 15:27:12.943 -0.000492     NaN     NaN     NaN        NaN   \n",
       "\n",
       "                         slow_mavg  sma  \n",
       "date_time                                \n",
       "2015-02-03 15:02:12.773        NaN  NaN  \n",
       "2015-02-03 15:07:20.968        NaN  NaN  \n",
       "2015-02-03 15:14:10.455        NaN  NaN  \n",
       "2015-02-03 15:21:15.748        NaN  NaN  \n",
       "2015-02-03 15:27:12.943        NaN  NaN  \n",
       "\n",
       "[5 rows x 32 columns]"
      ]
     },
     "execution_count": 41,
     "metadata": {},
     "output_type": "execute_result"
    }
   ],
   "source": [
    "# Remove look ahead bias\n",
    "raw_data = raw_data.shift(1)\n",
    "raw_data.head()"
   ]
  },
  {
   "cell_type": "markdown",
   "id": "67a1a429",
   "metadata": {},
   "source": [
    "#### Now get the data at the specified events"
   ]
  },
  {
   "cell_type": "code",
   "execution_count": 42,
   "id": "5449bdd7",
   "metadata": {},
   "outputs": [],
   "source": [
    "# Get features at event dates\n",
    "X = raw_data.loc[labels.index, :]\n",
    "\n",
    "# Drop unwanted columns\n",
    "X.drop(['avg', 'upper', 'lower', 'open', 'high', 'low', 'close', 'cum_vol', 'cum_dollar', 'cum_ticks','fast_mavg', 'slow_mavg',], axis=1, inplace=True)\n",
    "\n",
    "y = labels['bin']"
   ]
  },
  {
   "cell_type": "markdown",
   "id": "becd64ae",
   "metadata": {},
   "source": [
    "### Fit a model"
   ]
  },
  {
   "cell_type": "code",
   "execution_count": 43,
   "id": "a17deedf",
   "metadata": {},
   "outputs": [],
   "source": [
    "# Split data into training, validation and test sets\n",
    "X_training_test = X\n",
    "y_training_test = y\n",
    "X_train, X_test, y_train, y_test = train_test_split(X_training_test, y_training_test, test_size=0.2, shuffle=False)"
   ]
  },
  {
   "cell_type": "code",
   "execution_count": 44,
   "id": "31176371",
   "metadata": {},
   "outputs": [
    {
     "data": {
      "text/plain": [
       "1    143\n",
       "0    123\n",
       "Name: bin, dtype: int64"
      ]
     },
     "execution_count": 44,
     "metadata": {},
     "output_type": "execute_result"
    }
   ],
   "source": [
    "train_df = pd.concat([y_train, X_train], axis=1, join='inner')\n",
    "train_df['bin'].value_counts()"
   ]
  },
  {
   "cell_type": "markdown",
   "id": "2da21db1",
   "metadata": {},
   "source": [
    "##### Note that true positives (1) are a less than 25% of the false positives (0).  We would want to rebalance the class weights to pay more attention to true positives (and less to false positives)"
   ]
  },
  {
   "cell_type": "code",
   "execution_count": 45,
   "id": "cb578b33",
   "metadata": {},
   "outputs": [],
   "source": [
    "# Create training data\n",
    "y_train = train_df['bin']\n",
    "X_train= train_df.loc[:, train_df.columns != 'bin']"
   ]
  },
  {
   "cell_type": "code",
   "execution_count": 46,
   "id": "8feb1243",
   "metadata": {},
   "outputs": [
    {
     "name": "stdout",
     "output_type": "stream",
     "text": [
      "100 5 42\n"
     ]
    }
   ],
   "source": [
    "# extract parameters\n",
    "n_estimator = 100\n",
    "depth = 5\n",
    "c_random_state = 42\n",
    "print(n_estimator, depth, c_random_state)"
   ]
  },
  {
   "cell_type": "code",
   "execution_count": 47,
   "id": "46d26a75",
   "metadata": {},
   "outputs": [
    {
     "name": "stdout",
     "output_type": "stream",
     "text": [
      "Out-of-bag Accuracy (OOB Score): 0.687970\n"
     ]
    },
    {
     "name": "stderr",
     "output_type": "stream",
     "text": [
      "/Users/junwei1/opt/anaconda3/envs/mlfinlab/lib/python3.8/site-packages/sklearn/base.py:445: UserWarning: X does not have valid feature names, but RandomForestClassifier was fitted with feature names\n",
      "  warnings.warn(\n"
     ]
    }
   ],
   "source": [
    "# Random Forest Model\n",
    "rf = RandomForestClassifier(max_depth=depth, n_estimators=n_estimator, oob_score=True,\n",
    "                            criterion='entropy', random_state=c_random_state)\n",
    "rf.fit(X_train, y_train.values.ravel())\n",
    "print(\"Out-of-bag Accuracy (OOB Score): {:.6f}\".format(rf.oob_score_))"
   ]
  },
  {
   "cell_type": "markdown",
   "id": "84e7bbce",
   "metadata": {},
   "source": [
    "##### *The out of bag accuracy in a data-set that has low uniqueness is very high (81%) ... commenting on observations with low uniquness, section 4.5 of AFML, page 63 states, \"random sampling will make out-of-bag examples very similar to in-the-bag ones, the OOB accuracy would be grossly inflated\"*  "
   ]
  },
  {
   "cell_type": "markdown",
   "id": "3ace380c",
   "metadata": {},
   "source": [
    "### 4.3 (b) what is the mean accuracy of k-fold cross-validation (without shuffling) on the same dataset?"
   ]
  },
  {
   "cell_type": "code",
   "execution_count": 48,
   "id": "9de7196a",
   "metadata": {},
   "outputs": [
    {
     "name": "stdout",
     "output_type": "stream",
     "text": [
      "KFold(n_splits=5, random_state=1, shuffle=True)\n"
     ]
    }
   ],
   "source": [
    "# K-fold\n",
    "no_of_folds = 5\n",
    "kfold = KFold(shuffle=True, random_state=1, n_splits=no_of_folds)\n",
    "print(kfold)"
   ]
  },
  {
   "cell_type": "code",
   "execution_count": 49,
   "id": "5f80ed56",
   "metadata": {},
   "outputs": [
    {
     "name": "stderr",
     "output_type": "stream",
     "text": [
      "/Users/junwei1/opt/anaconda3/envs/mlfinlab/lib/python3.8/site-packages/sklearn/base.py:445: UserWarning: X does not have valid feature names, but RandomForestClassifier was fitted with feature names\n",
      "  warnings.warn(\n",
      "/Users/junwei1/opt/anaconda3/envs/mlfinlab/lib/python3.8/site-packages/sklearn/base.py:445: UserWarning: X does not have valid feature names, but RandomForestClassifier was fitted with feature names\n",
      "  warnings.warn(\n",
      "/Users/junwei1/opt/anaconda3/envs/mlfinlab/lib/python3.8/site-packages/sklearn/base.py:445: UserWarning: X does not have valid feature names, but RandomForestClassifier was fitted with feature names\n",
      "  warnings.warn(\n",
      "/Users/junwei1/opt/anaconda3/envs/mlfinlab/lib/python3.8/site-packages/sklearn/base.py:445: UserWarning: X does not have valid feature names, but RandomForestClassifier was fitted with feature names\n",
      "  warnings.warn(\n",
      "/Users/junwei1/opt/anaconda3/envs/mlfinlab/lib/python3.8/site-packages/sklearn/base.py:445: UserWarning: X does not have valid feature names, but RandomForestClassifier was fitted with feature names\n",
      "  warnings.warn(\n"
     ]
    }
   ],
   "source": [
    "accuracy_array = np.zeros(no_of_folds)\n",
    "i = 0\n",
    "for train_index, test_index in kfold.split(X_training_test):\n",
    "    # print(\"TRAIN:\", train_index, \"TEST:\", test_index)\n",
    "    X_train, X_test = X.iloc[train_index], X.iloc[test_index]\n",
    "    y_train, y_test = y.iloc[train_index], y.iloc[test_index]\n",
    "    rf.fit(X_train, y_train.values.ravel())\n",
    "\n",
    "    y_pred_rf = rf.predict_proba(X_test)[:, 1]\n",
    "    y_pred = rf.predict(X_test)\n",
    "    accuracy_array[i] = accuracy_score(y_test, y_pred)\n",
    "    i += 1\n",
    "    # print(accuracy_score(y_test, y_pred))"
   ]
  },
  {
   "cell_type": "code",
   "execution_count": 50,
   "id": "d129cf83",
   "metadata": {},
   "outputs": [
    {
     "name": "stdout",
     "output_type": "stream",
     "text": [
      "[0.67164179 0.7761194  0.65671642 0.60606061 0.74242424]\n",
      "Mean KFold accuracy: 0.690592\n"
     ]
    }
   ],
   "source": [
    "print(accuracy_array)\n",
    "print(\"Mean KFold accuracy: {:.6f}\".format(np.mean(accuracy_array)))"
   ]
  },
  {
   "cell_type": "markdown",
   "id": "705d006d",
   "metadata": {},
   "source": [
    "##### *The mean accuracy from KFold is 79% - 2 percentatge point lower than OOB accuracy score. The OOB score is more biased because in case of sampling with replacement, there is higher redundancy within the in-the-bag observations. This in turn causes overestimation of accuracy.*"
   ]
  },
  {
   "cell_type": "code",
   "execution_count": null,
   "id": "a6e3d1a1",
   "metadata": {},
   "outputs": [],
   "source": []
  }
 ],
 "metadata": {
  "kernelspec": {
   "display_name": "Python 3 (ipykernel)",
   "language": "python",
   "name": "python3"
  },
  "language_info": {
   "codemirror_mode": {
    "name": "ipython",
    "version": 3
   },
   "file_extension": ".py",
   "mimetype": "text/x-python",
   "name": "python",
   "nbconvert_exporter": "python",
   "pygments_lexer": "ipython3",
   "version": "3.8.12"
  }
 },
 "nbformat": 4,
 "nbformat_minor": 5
}
